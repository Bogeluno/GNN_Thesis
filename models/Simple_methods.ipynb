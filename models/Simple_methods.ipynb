{
 "cells": [
  {
   "cell_type": "code",
   "execution_count": 36,
   "metadata": {},
   "outputs": [],
   "source": [
    "import pandas as pd\n",
    "import numpy as np\n",
    "import pickle\n",
    "import glob\n",
    "from tqdm import tqdm\n",
    "import matplotlib.pyplot as plt\n",
    "from sklearn.model_selection import train_test_split, GridSearchCV\n",
    "from sklearn.metrics import r2_score\n",
    "from sklearn import linear_model"
   ]
  },
  {
   "cell_type": "code",
   "execution_count": 18,
   "metadata": {},
   "outputs": [],
   "source": [
    "trafic_index = dict(pd.read_csv('data/processed/Full_data_set.csv', parse_dates = [8]).Reservation_Time.dt.hour.value_counts())\n",
    "\n",
    "df = pd.read_csv('data/processed/OctNov.csv', index_col=0, parse_dates=[1])\n",
    "\n",
    "df = df[df.next_customer]\n",
    "df.drop(columns=['prev_customer', 'next_customer'], inplace = True)\n",
    "\n",
    "df['weekend'] = df.time.dt.weekday//5\n",
    "df['hour_index'] = df.time.dt.hour.map(trafic_index)/10000\n",
    "\n",
    "# Remove zones with too little support\n",
    "df = df[~df.leave_zone.isin((df.leave_zone.value_counts() < 30).index[df.leave_zone.value_counts() < 30])]\n",
    "\n",
    "df = pd.get_dummies(df, columns = ['engine','leave_zone'], prefix=['eng','lz'])\n",
    "\n",
    "\n",
    "y = df.time_to_reservation\n",
    "df.drop(columns=['time_to_reservation', 'time', 'park_location_lat', 'park_location_long', 'leave_location_lat', 'leave_location_long', 'leave_fuel', 'park_zone', 'moved', 'movedTF'], inplace = True)"
   ]
  },
  {
   "cell_type": "code",
   "execution_count": 19,
   "metadata": {},
   "outputs": [],
   "source": [
    "X_train, X_test, y_train, y_test = train_test_split(df, y, test_size=0.2)"
   ]
  },
  {
   "cell_type": "code",
   "execution_count": 30,
   "metadata": {},
   "outputs": [
    {
     "name": "stdout",
     "output_type": "stream",
     "text": [
      "Fitting 10 folds for each of 1 candidates, totalling 10 fits\n",
      "[CV] END .................................................... total time=  10.9s\n",
      "[CV] END .................................................... total time=  10.9s\n",
      "[CV] END .................................................... total time=  11.0s\n",
      "[CV] END .................................................... total time=  11.1s\n",
      "[CV] END .................................................... total time=  11.2s\n",
      "[CV] END .................................................... total time=  11.2s\n",
      "[CV] END .................................................... total time=  11.2s\n",
      "[CV] END .................................................... total time=   4.0s\n",
      "[CV] END .................................................... total time=   4.0s\n",
      "[CV] END .................................................... total time=   4.0s\n"
     ]
    },
    {
     "data": {
      "text/plain": [
       "GridSearchCV(cv=10, estimator=LinearRegression(), n_jobs=-2, param_grid={},\n",
       "             return_train_score=True, scoring='neg_mean_squared_error',\n",
       "             verbose=2)"
      ]
     },
     "execution_count": 30,
     "metadata": {},
     "output_type": "execute_result"
    }
   ],
   "source": [
    "cv_select = GridSearchCV(\n",
    "    estimator=linear_model.LinearRegression(), \n",
    "    param_grid={}, \n",
    "    scoring='neg_mean_squared_error', # Use MSE\n",
    "    n_jobs=-2,\n",
    "    return_train_score=True,\n",
    "    verbose=2, \n",
    "    cv=10\n",
    ")\n",
    "\n",
    "cv_select.fit(X_train, y_train)"
   ]
  },
  {
   "cell_type": "code",
   "execution_count": 38,
   "metadata": {},
   "outputs": [
    {
     "data": {
      "text/plain": [
       "0.12583861771471416"
      ]
     },
     "execution_count": 38,
     "metadata": {},
     "output_type": "execute_result"
    }
   ],
   "source": [
    "r2_score(y_test,cv_select.predict(X_test))"
   ]
  },
  {
   "cell_type": "code",
   "execution_count": 26,
   "metadata": {},
   "outputs": [],
   "source": [
    "def cv(model, parameters, X_train, y_train, cf = 5):    \n",
    "    \"\"\"\n",
    "    Performs paramter tunning using cross-validation on a specifed pipe object.\n",
    "    \"\"\"\n",
    "    # perform cross validaiton over the input parameters\n",
    "    cv_select = GridSearchCV(\n",
    "        estimator=model, \n",
    "        param_grid=parameters, \n",
    "        scoring='neg_mean_squared_error', # Use MSE\n",
    "        n_jobs=-2,\n",
    "        return_train_score=True,\n",
    "        verbose=2, \n",
    "        cv=cf\n",
    "    )\n",
    "    cv_select.fit(X_train, y_train)\n",
    "    \n",
    "    return(cv_select)"
   ]
  },
  {
   "cell_type": "code",
   "execution_count": 27,
   "metadata": {},
   "outputs": [
    {
     "name": "stdout",
     "output_type": "stream",
     "text": [
      "Fitting 5 folds for each of 100 candidates, totalling 500 fits\n",
      "[CV] END ............alpha=0.01, l1_ratio=0.1111111111111111; total time=   7.8s\n",
      "[CV] END ............alpha=0.01, l1_ratio=0.1111111111111111; total time=  10.7s\n",
      "[CV] END ............alpha=0.01, l1_ratio=0.1111111111111111; total time=   9.9s\n",
      "[CV] END ............alpha=0.01, l1_ratio=0.1111111111111111; total time=   7.3s\n",
      "[CV] END ............alpha=0.01, l1_ratio=0.1111111111111111; total time=   5.4s\n",
      "[CV] END ............alpha=0.01, l1_ratio=0.2222222222222222; total time=   9.2s\n",
      "[CV] END ............alpha=0.01, l1_ratio=0.2222222222222222; total time=   6.1s\n",
      "[CV] END ............alpha=0.01, l1_ratio=0.2222222222222222; total time=   6.0s\n",
      "[CV] END ............alpha=0.01, l1_ratio=0.2222222222222222; total time=   5.0s\n",
      "[CV] END ............alpha=0.01, l1_ratio=0.2222222222222222; total time=   4.3s\n",
      "[CV] END ............alpha=0.01, l1_ratio=0.3333333333333333; total time=   7.3s\n",
      "[CV] END ............alpha=0.01, l1_ratio=0.3333333333333333; total time=   5.3s\n",
      "[CV] END ............alpha=0.01, l1_ratio=0.3333333333333333; total time=   5.0s\n",
      "[CV] END ............alpha=0.01, l1_ratio=0.3333333333333333; total time=   5.0s\n",
      "[CV] END ............alpha=0.01, l1_ratio=0.3333333333333333; total time=   4.2s\n",
      "[CV] END ............alpha=0.01, l1_ratio=0.4444444444444444; total time=   7.2s\n",
      "[CV] END ............alpha=0.01, l1_ratio=0.4444444444444444; total time=   5.5s\n",
      "[CV] END ............alpha=0.01, l1_ratio=0.4444444444444444; total time=   5.0s\n",
      "[CV] END ............alpha=0.01, l1_ratio=0.4444444444444444; total time=   6.2s\n",
      "[CV] END ............alpha=0.01, l1_ratio=0.4444444444444444; total time=   5.4s\n",
      "[CV] END ............alpha=0.01, l1_ratio=0.5555555555555556; total time=   8.6s\n",
      "[CV] END ............alpha=0.01, l1_ratio=0.5555555555555556; total time=   6.8s\n",
      "[CV] END ............alpha=0.01, l1_ratio=0.5555555555555556; total time=   4.6s\n",
      "[CV] END ............alpha=0.01, l1_ratio=0.5555555555555556; total time=   4.7s\n",
      "[CV] END ............alpha=0.01, l1_ratio=0.5555555555555556; total time=   3.6s\n",
      "[CV] END ............alpha=0.01, l1_ratio=0.6666666666666666; total time=   6.6s\n",
      "[CV] END ............alpha=0.01, l1_ratio=0.6666666666666666; total time=   5.2s\n",
      "[CV] END ............alpha=0.01, l1_ratio=0.6666666666666666; total time=   4.0s\n",
      "[CV] END ............alpha=0.01, l1_ratio=0.6666666666666666; total time=   4.5s\n",
      "[CV] END ............alpha=0.01, l1_ratio=0.6666666666666666; total time=   4.0s\n",
      "[CV] END ............alpha=0.01, l1_ratio=0.7777777777777777; total time=   6.6s\n",
      "[CV] END ............alpha=0.01, l1_ratio=0.7777777777777777; total time=   6.0s\n",
      "[CV] END ............alpha=0.01, l1_ratio=0.7777777777777777; total time=   4.5s\n",
      "[CV] END ............alpha=0.01, l1_ratio=0.7777777777777777; total time=   5.0s\n",
      "[CV] END ............alpha=0.01, l1_ratio=0.7777777777777777; total time=   4.2s\n",
      "[CV] END ............alpha=0.01, l1_ratio=0.8888888888888888; total time=   3.9s\n",
      "[CV] END ............alpha=0.01, l1_ratio=0.8888888888888888; total time=   4.0s\n",
      "[CV] END ............alpha=0.01, l1_ratio=0.8888888888888888; total time=   3.8s\n",
      "[CV] END ............alpha=0.01, l1_ratio=0.8888888888888888; total time=   3.3s\n",
      "[CV] END ............alpha=0.01, l1_ratio=0.8888888888888888; total time=   3.1s\n",
      "[CV] END ...........................alpha=0.01, l1_ratio=1.0; total time=   3.5s\n",
      "[CV] END ...........................alpha=0.01, l1_ratio=1.0; total time=   3.5s\n",
      "[CV] END ...........................alpha=0.01, l1_ratio=1.0; total time=   3.2s\n",
      "[CV] END ...........................alpha=0.01, l1_ratio=1.0; total time=   3.2s\n",
      "[CV] END ...........................alpha=0.01, l1_ratio=1.0; total time=   3.3s\n"
     ]
    },
    {
     "name": "stderr",
     "output_type": "stream",
     "text": [
      "/opt/anaconda3/envs/GNN_env/lib/python3.9/site-packages/sklearn/linear_model/_coordinate_descent.py:530: ConvergenceWarning: Objective did not converge. You might want to increase the number of iterations. Duality gap: 1813743.621266655, tolerance: 382.209123702881\n",
      "  model = cd_fast.enet_coordinate_descent(\n",
      "/opt/anaconda3/envs/GNN_env/lib/python3.9/site-packages/sklearn/linear_model/_coordinate_descent.py:530: ConvergenceWarning: Objective did not converge. You might want to increase the number of iterations. Duality gap: 1782741.2747158725, tolerance: 375.405163761137\n",
      "  model = cd_fast.enet_coordinate_descent(\n"
     ]
    },
    {
     "name": "stdout",
     "output_type": "stream",
     "text": [
      "[CV] END ...........................alpha=0.01, l1_ratio=0.0; total time= 4.6min\n"
     ]
    },
    {
     "name": "stderr",
     "output_type": "stream",
     "text": [
      "/opt/anaconda3/envs/GNN_env/lib/python3.9/site-packages/sklearn/linear_model/_coordinate_descent.py:530: ConvergenceWarning: Objective did not converge. You might want to increase the number of iterations. Duality gap: 1793607.4559922116, tolerance: 377.9148410305569\n",
      "  model = cd_fast.enet_coordinate_descent(\n"
     ]
    },
    {
     "name": "stdout",
     "output_type": "stream",
     "text": [
      "[CV] END ...........................alpha=0.01, l1_ratio=0.0; total time= 4.6min\n"
     ]
    },
    {
     "name": "stderr",
     "output_type": "stream",
     "text": [
      "/opt/anaconda3/envs/GNN_env/lib/python3.9/site-packages/sklearn/linear_model/_coordinate_descent.py:530: ConvergenceWarning: Objective did not converge. You might want to increase the number of iterations. Duality gap: 1710814.3241451394, tolerance: 361.1093905841271\n",
      "  model = cd_fast.enet_coordinate_descent(\n"
     ]
    },
    {
     "name": "stdout",
     "output_type": "stream",
     "text": [
      "[CV] END ...........................alpha=0.01, l1_ratio=0.0; total time= 4.6min\n",
      "[CV] END ...........................alpha=0.01, l1_ratio=0.0; total time= 4.6min\n"
     ]
    },
    {
     "name": "stderr",
     "output_type": "stream",
     "text": [
      "/opt/anaconda3/envs/GNN_env/lib/python3.9/site-packages/sklearn/linear_model/_coordinate_descent.py:530: ConvergenceWarning: Objective did not converge. You might want to increase the number of iterations. Duality gap: 1338514.7714081344, tolerance: 286.0405608721227\n",
      "  model = cd_fast.enet_coordinate_descent(\n"
     ]
    },
    {
     "name": "stdout",
     "output_type": "stream",
     "text": [
      "[CV] END ...........................alpha=0.01, l1_ratio=0.0; total time= 4.6min\n",
      "[CV] END ............alpha=0.12, l1_ratio=0.1111111111111111; total time=   2.3s\n",
      "[CV] END ............alpha=0.12, l1_ratio=0.1111111111111111; total time=   2.5s\n",
      "[CV] END ............alpha=0.12, l1_ratio=0.1111111111111111; total time=   2.4s\n",
      "[CV] END ............alpha=0.12, l1_ratio=0.1111111111111111; total time=   2.3s\n",
      "[CV] END ............alpha=0.12, l1_ratio=0.1111111111111111; total time=   2.2s\n",
      "[CV] END ............alpha=0.12, l1_ratio=0.2222222222222222; total time=   2.2s\n",
      "[CV] END ............alpha=0.12, l1_ratio=0.2222222222222222; total time=   2.1s\n",
      "[CV] END ............alpha=0.12, l1_ratio=0.2222222222222222; total time=   2.1s\n",
      "[CV] END ............alpha=0.12, l1_ratio=0.2222222222222222; total time=   2.3s\n",
      "[CV] END ............alpha=0.12, l1_ratio=0.2222222222222222; total time=   2.3s\n",
      "[CV] END ............alpha=0.12, l1_ratio=0.3333333333333333; total time=   2.2s\n",
      "[CV] END ............alpha=0.12, l1_ratio=0.3333333333333333; total time=   2.2s\n",
      "[CV] END ............alpha=0.12, l1_ratio=0.3333333333333333; total time=   2.1s\n",
      "[CV] END ............alpha=0.12, l1_ratio=0.3333333333333333; total time=   2.1s\n",
      "[CV] END ............alpha=0.12, l1_ratio=0.3333333333333333; total time=   2.1s\n",
      "[CV] END ............alpha=0.12, l1_ratio=0.4444444444444444; total time=   2.2s\n",
      "[CV] END ............alpha=0.12, l1_ratio=0.4444444444444444; total time=   2.1s\n",
      "[CV] END ............alpha=0.12, l1_ratio=0.4444444444444444; total time=   2.2s\n",
      "[CV] END ............alpha=0.12, l1_ratio=0.4444444444444444; total time=   2.1s\n",
      "[CV] END ............alpha=0.12, l1_ratio=0.4444444444444444; total time=   2.2s\n",
      "[CV] END ............alpha=0.12, l1_ratio=0.5555555555555556; total time=   2.0s\n",
      "[CV] END ............alpha=0.12, l1_ratio=0.5555555555555556; total time=   2.1s\n",
      "[CV] END ............alpha=0.12, l1_ratio=0.5555555555555556; total time=   2.1s\n",
      "[CV] END ............alpha=0.12, l1_ratio=0.5555555555555556; total time=   2.1s\n",
      "[CV] END ............alpha=0.12, l1_ratio=0.5555555555555556; total time=   2.1s\n",
      "[CV] END ............alpha=0.12, l1_ratio=0.6666666666666666; total time=   2.1s\n",
      "[CV] END ............alpha=0.12, l1_ratio=0.6666666666666666; total time=   2.1s\n",
      "[CV] END ............alpha=0.12, l1_ratio=0.6666666666666666; total time=   2.1s\n",
      "[CV] END ............alpha=0.12, l1_ratio=0.6666666666666666; total time=   2.0s\n",
      "[CV] END ............alpha=0.12, l1_ratio=0.6666666666666666; total time=   2.1s\n",
      "[CV] END ............alpha=0.12, l1_ratio=0.7777777777777777; total time=   2.0s\n",
      "[CV] END ............alpha=0.12, l1_ratio=0.7777777777777777; total time=   2.0s\n",
      "[CV] END ............alpha=0.12, l1_ratio=0.7777777777777777; total time=   2.1s\n",
      "[CV] END ............alpha=0.12, l1_ratio=0.7777777777777777; total time=   2.2s\n",
      "[CV] END ............alpha=0.12, l1_ratio=0.7777777777777777; total time=   2.0s\n",
      "[CV] END ............alpha=0.12, l1_ratio=0.8888888888888888; total time=   2.1s\n",
      "[CV] END ............alpha=0.12, l1_ratio=0.8888888888888888; total time=   2.0s\n",
      "[CV] END ............alpha=0.12, l1_ratio=0.8888888888888888; total time=   2.1s\n",
      "[CV] END ............alpha=0.12, l1_ratio=0.8888888888888888; total time=   2.0s\n",
      "[CV] END ............alpha=0.12, l1_ratio=0.8888888888888888; total time=   2.1s\n",
      "[CV] END ...........................alpha=0.12, l1_ratio=1.0; total time=   2.2s\n",
      "[CV] END ...........................alpha=0.12, l1_ratio=1.0; total time=   2.3s\n",
      "[CV] END ...........................alpha=0.12, l1_ratio=1.0; total time=   2.1s\n",
      "[CV] END ...........................alpha=0.12, l1_ratio=1.0; total time=   2.1s\n",
      "[CV] END ...........................alpha=0.12, l1_ratio=1.0; total time=   2.2s\n"
     ]
    },
    {
     "name": "stderr",
     "output_type": "stream",
     "text": [
      "/opt/anaconda3/envs/GNN_env/lib/python3.9/site-packages/sklearn/linear_model/_coordinate_descent.py:530: ConvergenceWarning: Objective did not converge. You might want to increase the number of iterations. Duality gap: 1819693.5695149123, tolerance: 375.405163761137\n",
      "  model = cd_fast.enet_coordinate_descent(\n"
     ]
    },
    {
     "name": "stdout",
     "output_type": "stream",
     "text": [
      "[CV] END ...........................alpha=0.12, l1_ratio=0.0; total time= 4.1min\n"
     ]
    },
    {
     "name": "stderr",
     "output_type": "stream",
     "text": [
      "/opt/anaconda3/envs/GNN_env/lib/python3.9/site-packages/sklearn/linear_model/_coordinate_descent.py:530: ConvergenceWarning: Objective did not converge. You might want to increase the number of iterations. Duality gap: 1851952.4109694848, tolerance: 382.209123702881\n",
      "  model = cd_fast.enet_coordinate_descent(\n"
     ]
    },
    {
     "name": "stdout",
     "output_type": "stream",
     "text": [
      "[CV] END ...........................alpha=0.12, l1_ratio=0.0; total time= 4.1min\n"
     ]
    },
    {
     "ename": "KeyboardInterrupt",
     "evalue": "",
     "output_type": "error",
     "traceback": [
      "\u001b[0;31m---------------------------------------------------------------------------\u001b[0m",
      "\u001b[0;31mKeyboardInterrupt\u001b[0m                         Traceback (most recent call last)",
      "\u001b[0;32m/var/folders/3z/pggbcw7949507j0lbw1gjngc0000gn/T/ipykernel_25789/842797463.py\u001b[0m in \u001b[0;36m<module>\u001b[0;34m\u001b[0m\n\u001b[1;32m      6\u001b[0m }\n\u001b[1;32m      7\u001b[0m \u001b[0;34m\u001b[0m\u001b[0m\n\u001b[0;32m----> 8\u001b[0;31m \u001b[0melastic_net_cv\u001b[0m \u001b[0;34m=\u001b[0m \u001b[0mcv\u001b[0m\u001b[0;34m(\u001b[0m\u001b[0melastic_net_model\u001b[0m\u001b[0;34m,\u001b[0m \u001b[0mparameters\u001b[0m\u001b[0;34m,\u001b[0m \u001b[0mX_train\u001b[0m\u001b[0;34m,\u001b[0m \u001b[0my_train\u001b[0m\u001b[0;34m,\u001b[0m \u001b[0mcf\u001b[0m \u001b[0;34m=\u001b[0m \u001b[0;36m5\u001b[0m\u001b[0;34m)\u001b[0m\u001b[0;34m\u001b[0m\u001b[0;34m\u001b[0m\u001b[0m\n\u001b[0m",
      "\u001b[0;32m/var/folders/3z/pggbcw7949507j0lbw1gjngc0000gn/T/ipykernel_25789/2603181470.py\u001b[0m in \u001b[0;36mcv\u001b[0;34m(model, parameters, X_train, y_train, cf)\u001b[0m\n\u001b[1;32m     13\u001b[0m         \u001b[0mcv\u001b[0m\u001b[0;34m=\u001b[0m\u001b[0mcf\u001b[0m\u001b[0;34m\u001b[0m\u001b[0;34m\u001b[0m\u001b[0m\n\u001b[1;32m     14\u001b[0m     )\n\u001b[0;32m---> 15\u001b[0;31m     \u001b[0mcv_select\u001b[0m\u001b[0;34m.\u001b[0m\u001b[0mfit\u001b[0m\u001b[0;34m(\u001b[0m\u001b[0mX_train\u001b[0m\u001b[0;34m,\u001b[0m \u001b[0my_train\u001b[0m\u001b[0;34m)\u001b[0m\u001b[0;34m\u001b[0m\u001b[0;34m\u001b[0m\u001b[0m\n\u001b[0m\u001b[1;32m     16\u001b[0m \u001b[0;34m\u001b[0m\u001b[0m\n\u001b[1;32m     17\u001b[0m     \u001b[0;32mreturn\u001b[0m\u001b[0;34m(\u001b[0m\u001b[0mcv_select\u001b[0m\u001b[0;34m)\u001b[0m\u001b[0;34m\u001b[0m\u001b[0;34m\u001b[0m\u001b[0m\n",
      "\u001b[0;32m/opt/anaconda3/envs/GNN_env/lib/python3.9/site-packages/sklearn/utils/validation.py\u001b[0m in \u001b[0;36minner_f\u001b[0;34m(*args, **kwargs)\u001b[0m\n\u001b[1;32m     61\u001b[0m             \u001b[0mextra_args\u001b[0m \u001b[0;34m=\u001b[0m \u001b[0mlen\u001b[0m\u001b[0;34m(\u001b[0m\u001b[0margs\u001b[0m\u001b[0;34m)\u001b[0m \u001b[0;34m-\u001b[0m \u001b[0mlen\u001b[0m\u001b[0;34m(\u001b[0m\u001b[0mall_args\u001b[0m\u001b[0;34m)\u001b[0m\u001b[0;34m\u001b[0m\u001b[0;34m\u001b[0m\u001b[0m\n\u001b[1;32m     62\u001b[0m             \u001b[0;32mif\u001b[0m \u001b[0mextra_args\u001b[0m \u001b[0;34m<=\u001b[0m \u001b[0;36m0\u001b[0m\u001b[0;34m:\u001b[0m\u001b[0;34m\u001b[0m\u001b[0;34m\u001b[0m\u001b[0m\n\u001b[0;32m---> 63\u001b[0;31m                 \u001b[0;32mreturn\u001b[0m \u001b[0mf\u001b[0m\u001b[0;34m(\u001b[0m\u001b[0;34m*\u001b[0m\u001b[0margs\u001b[0m\u001b[0;34m,\u001b[0m \u001b[0;34m**\u001b[0m\u001b[0mkwargs\u001b[0m\u001b[0;34m)\u001b[0m\u001b[0;34m\u001b[0m\u001b[0;34m\u001b[0m\u001b[0m\n\u001b[0m\u001b[1;32m     64\u001b[0m \u001b[0;34m\u001b[0m\u001b[0m\n\u001b[1;32m     65\u001b[0m             \u001b[0;31m# extra_args > 0\u001b[0m\u001b[0;34m\u001b[0m\u001b[0;34m\u001b[0m\u001b[0;34m\u001b[0m\u001b[0m\n",
      "\u001b[0;32m/opt/anaconda3/envs/GNN_env/lib/python3.9/site-packages/sklearn/model_selection/_search.py\u001b[0m in \u001b[0;36mfit\u001b[0;34m(self, X, y, groups, **fit_params)\u001b[0m\n\u001b[1;32m    839\u001b[0m                 \u001b[0;32mreturn\u001b[0m \u001b[0mresults\u001b[0m\u001b[0;34m\u001b[0m\u001b[0;34m\u001b[0m\u001b[0m\n\u001b[1;32m    840\u001b[0m \u001b[0;34m\u001b[0m\u001b[0m\n\u001b[0;32m--> 841\u001b[0;31m             \u001b[0mself\u001b[0m\u001b[0;34m.\u001b[0m\u001b[0m_run_search\u001b[0m\u001b[0;34m(\u001b[0m\u001b[0mevaluate_candidates\u001b[0m\u001b[0;34m)\u001b[0m\u001b[0;34m\u001b[0m\u001b[0;34m\u001b[0m\u001b[0m\n\u001b[0m\u001b[1;32m    842\u001b[0m \u001b[0;34m\u001b[0m\u001b[0m\n\u001b[1;32m    843\u001b[0m             \u001b[0;31m# multimetric is determined here because in the case of a callable\u001b[0m\u001b[0;34m\u001b[0m\u001b[0;34m\u001b[0m\u001b[0;34m\u001b[0m\u001b[0m\n",
      "\u001b[0;32m/opt/anaconda3/envs/GNN_env/lib/python3.9/site-packages/sklearn/model_selection/_search.py\u001b[0m in \u001b[0;36m_run_search\u001b[0;34m(self, evaluate_candidates)\u001b[0m\n\u001b[1;32m   1294\u001b[0m     \u001b[0;32mdef\u001b[0m \u001b[0m_run_search\u001b[0m\u001b[0;34m(\u001b[0m\u001b[0mself\u001b[0m\u001b[0;34m,\u001b[0m \u001b[0mevaluate_candidates\u001b[0m\u001b[0;34m)\u001b[0m\u001b[0;34m:\u001b[0m\u001b[0;34m\u001b[0m\u001b[0;34m\u001b[0m\u001b[0m\n\u001b[1;32m   1295\u001b[0m         \u001b[0;34m\"\"\"Search all candidates in param_grid\"\"\"\u001b[0m\u001b[0;34m\u001b[0m\u001b[0;34m\u001b[0m\u001b[0m\n\u001b[0;32m-> 1296\u001b[0;31m         \u001b[0mevaluate_candidates\u001b[0m\u001b[0;34m(\u001b[0m\u001b[0mParameterGrid\u001b[0m\u001b[0;34m(\u001b[0m\u001b[0mself\u001b[0m\u001b[0;34m.\u001b[0m\u001b[0mparam_grid\u001b[0m\u001b[0;34m)\u001b[0m\u001b[0;34m)\u001b[0m\u001b[0;34m\u001b[0m\u001b[0;34m\u001b[0m\u001b[0m\n\u001b[0m\u001b[1;32m   1297\u001b[0m \u001b[0;34m\u001b[0m\u001b[0m\n\u001b[1;32m   1298\u001b[0m \u001b[0;34m\u001b[0m\u001b[0m\n",
      "\u001b[0;32m/opt/anaconda3/envs/GNN_env/lib/python3.9/site-packages/sklearn/model_selection/_search.py\u001b[0m in \u001b[0;36mevaluate_candidates\u001b[0;34m(candidate_params, cv, more_results)\u001b[0m\n\u001b[1;32m    793\u001b[0m                               n_splits, n_candidates, n_candidates * n_splits))\n\u001b[1;32m    794\u001b[0m \u001b[0;34m\u001b[0m\u001b[0m\n\u001b[0;32m--> 795\u001b[0;31m                 out = parallel(delayed(_fit_and_score)(clone(base_estimator),\n\u001b[0m\u001b[1;32m    796\u001b[0m                                                        \u001b[0mX\u001b[0m\u001b[0;34m,\u001b[0m \u001b[0my\u001b[0m\u001b[0;34m,\u001b[0m\u001b[0;34m\u001b[0m\u001b[0;34m\u001b[0m\u001b[0m\n\u001b[1;32m    797\u001b[0m                                                        \u001b[0mtrain\u001b[0m\u001b[0;34m=\u001b[0m\u001b[0mtrain\u001b[0m\u001b[0;34m,\u001b[0m \u001b[0mtest\u001b[0m\u001b[0;34m=\u001b[0m\u001b[0mtest\u001b[0m\u001b[0;34m,\u001b[0m\u001b[0;34m\u001b[0m\u001b[0;34m\u001b[0m\u001b[0m\n",
      "\u001b[0;32m/opt/anaconda3/envs/GNN_env/lib/python3.9/site-packages/joblib/parallel.py\u001b[0m in \u001b[0;36m__call__\u001b[0;34m(self, iterable)\u001b[0m\n\u001b[1;32m   1052\u001b[0m \u001b[0;34m\u001b[0m\u001b[0m\n\u001b[1;32m   1053\u001b[0m             \u001b[0;32mwith\u001b[0m \u001b[0mself\u001b[0m\u001b[0;34m.\u001b[0m\u001b[0m_backend\u001b[0m\u001b[0;34m.\u001b[0m\u001b[0mretrieval_context\u001b[0m\u001b[0;34m(\u001b[0m\u001b[0;34m)\u001b[0m\u001b[0;34m:\u001b[0m\u001b[0;34m\u001b[0m\u001b[0;34m\u001b[0m\u001b[0m\n\u001b[0;32m-> 1054\u001b[0;31m                 \u001b[0mself\u001b[0m\u001b[0;34m.\u001b[0m\u001b[0mretrieve\u001b[0m\u001b[0;34m(\u001b[0m\u001b[0;34m)\u001b[0m\u001b[0;34m\u001b[0m\u001b[0;34m\u001b[0m\u001b[0m\n\u001b[0m\u001b[1;32m   1055\u001b[0m             \u001b[0;31m# Make sure that we get a last message telling us we are done\u001b[0m\u001b[0;34m\u001b[0m\u001b[0;34m\u001b[0m\u001b[0;34m\u001b[0m\u001b[0m\n\u001b[1;32m   1056\u001b[0m             \u001b[0melapsed_time\u001b[0m \u001b[0;34m=\u001b[0m \u001b[0mtime\u001b[0m\u001b[0;34m.\u001b[0m\u001b[0mtime\u001b[0m\u001b[0;34m(\u001b[0m\u001b[0;34m)\u001b[0m \u001b[0;34m-\u001b[0m \u001b[0mself\u001b[0m\u001b[0;34m.\u001b[0m\u001b[0m_start_time\u001b[0m\u001b[0;34m\u001b[0m\u001b[0;34m\u001b[0m\u001b[0m\n",
      "\u001b[0;32m/opt/anaconda3/envs/GNN_env/lib/python3.9/site-packages/joblib/parallel.py\u001b[0m in \u001b[0;36mretrieve\u001b[0;34m(self)\u001b[0m\n\u001b[1;32m    931\u001b[0m             \u001b[0;32mtry\u001b[0m\u001b[0;34m:\u001b[0m\u001b[0;34m\u001b[0m\u001b[0;34m\u001b[0m\u001b[0m\n\u001b[1;32m    932\u001b[0m                 \u001b[0;32mif\u001b[0m \u001b[0mgetattr\u001b[0m\u001b[0;34m(\u001b[0m\u001b[0mself\u001b[0m\u001b[0;34m.\u001b[0m\u001b[0m_backend\u001b[0m\u001b[0;34m,\u001b[0m \u001b[0;34m'supports_timeout'\u001b[0m\u001b[0;34m,\u001b[0m \u001b[0;32mFalse\u001b[0m\u001b[0;34m)\u001b[0m\u001b[0;34m:\u001b[0m\u001b[0;34m\u001b[0m\u001b[0;34m\u001b[0m\u001b[0m\n\u001b[0;32m--> 933\u001b[0;31m                     \u001b[0mself\u001b[0m\u001b[0;34m.\u001b[0m\u001b[0m_output\u001b[0m\u001b[0;34m.\u001b[0m\u001b[0mextend\u001b[0m\u001b[0;34m(\u001b[0m\u001b[0mjob\u001b[0m\u001b[0;34m.\u001b[0m\u001b[0mget\u001b[0m\u001b[0;34m(\u001b[0m\u001b[0mtimeout\u001b[0m\u001b[0;34m=\u001b[0m\u001b[0mself\u001b[0m\u001b[0;34m.\u001b[0m\u001b[0mtimeout\u001b[0m\u001b[0;34m)\u001b[0m\u001b[0;34m)\u001b[0m\u001b[0;34m\u001b[0m\u001b[0;34m\u001b[0m\u001b[0m\n\u001b[0m\u001b[1;32m    934\u001b[0m                 \u001b[0;32melse\u001b[0m\u001b[0;34m:\u001b[0m\u001b[0;34m\u001b[0m\u001b[0;34m\u001b[0m\u001b[0m\n\u001b[1;32m    935\u001b[0m                     \u001b[0mself\u001b[0m\u001b[0;34m.\u001b[0m\u001b[0m_output\u001b[0m\u001b[0;34m.\u001b[0m\u001b[0mextend\u001b[0m\u001b[0;34m(\u001b[0m\u001b[0mjob\u001b[0m\u001b[0;34m.\u001b[0m\u001b[0mget\u001b[0m\u001b[0;34m(\u001b[0m\u001b[0;34m)\u001b[0m\u001b[0;34m)\u001b[0m\u001b[0;34m\u001b[0m\u001b[0;34m\u001b[0m\u001b[0m\n",
      "\u001b[0;32m/opt/anaconda3/envs/GNN_env/lib/python3.9/site-packages/joblib/_parallel_backends.py\u001b[0m in \u001b[0;36mwrap_future_result\u001b[0;34m(future, timeout)\u001b[0m\n\u001b[1;32m    540\u001b[0m         AsyncResults.get from multiprocessing.\"\"\"\n\u001b[1;32m    541\u001b[0m         \u001b[0;32mtry\u001b[0m\u001b[0;34m:\u001b[0m\u001b[0;34m\u001b[0m\u001b[0;34m\u001b[0m\u001b[0m\n\u001b[0;32m--> 542\u001b[0;31m             \u001b[0;32mreturn\u001b[0m \u001b[0mfuture\u001b[0m\u001b[0;34m.\u001b[0m\u001b[0mresult\u001b[0m\u001b[0;34m(\u001b[0m\u001b[0mtimeout\u001b[0m\u001b[0;34m=\u001b[0m\u001b[0mtimeout\u001b[0m\u001b[0;34m)\u001b[0m\u001b[0;34m\u001b[0m\u001b[0;34m\u001b[0m\u001b[0m\n\u001b[0m\u001b[1;32m    543\u001b[0m         \u001b[0;32mexcept\u001b[0m \u001b[0mCfTimeoutError\u001b[0m \u001b[0;32mas\u001b[0m \u001b[0me\u001b[0m\u001b[0;34m:\u001b[0m\u001b[0;34m\u001b[0m\u001b[0;34m\u001b[0m\u001b[0m\n\u001b[1;32m    544\u001b[0m             \u001b[0;32mraise\u001b[0m \u001b[0mTimeoutError\u001b[0m \u001b[0;32mfrom\u001b[0m \u001b[0me\u001b[0m\u001b[0;34m\u001b[0m\u001b[0;34m\u001b[0m\u001b[0m\n",
      "\u001b[0;32m/opt/anaconda3/envs/GNN_env/lib/python3.9/concurrent/futures/_base.py\u001b[0m in \u001b[0;36mresult\u001b[0;34m(self, timeout)\u001b[0m\n\u001b[1;32m    438\u001b[0m                     \u001b[0;32mreturn\u001b[0m \u001b[0mself\u001b[0m\u001b[0;34m.\u001b[0m\u001b[0m__get_result\u001b[0m\u001b[0;34m(\u001b[0m\u001b[0;34m)\u001b[0m\u001b[0;34m\u001b[0m\u001b[0;34m\u001b[0m\u001b[0m\n\u001b[1;32m    439\u001b[0m \u001b[0;34m\u001b[0m\u001b[0m\n\u001b[0;32m--> 440\u001b[0;31m                 \u001b[0mself\u001b[0m\u001b[0;34m.\u001b[0m\u001b[0m_condition\u001b[0m\u001b[0;34m.\u001b[0m\u001b[0mwait\u001b[0m\u001b[0;34m(\u001b[0m\u001b[0mtimeout\u001b[0m\u001b[0;34m)\u001b[0m\u001b[0;34m\u001b[0m\u001b[0;34m\u001b[0m\u001b[0m\n\u001b[0m\u001b[1;32m    441\u001b[0m \u001b[0;34m\u001b[0m\u001b[0m\n\u001b[1;32m    442\u001b[0m                 \u001b[0;32mif\u001b[0m \u001b[0mself\u001b[0m\u001b[0;34m.\u001b[0m\u001b[0m_state\u001b[0m \u001b[0;32min\u001b[0m \u001b[0;34m[\u001b[0m\u001b[0mCANCELLED\u001b[0m\u001b[0;34m,\u001b[0m \u001b[0mCANCELLED_AND_NOTIFIED\u001b[0m\u001b[0;34m]\u001b[0m\u001b[0;34m:\u001b[0m\u001b[0;34m\u001b[0m\u001b[0;34m\u001b[0m\u001b[0m\n",
      "\u001b[0;32m/opt/anaconda3/envs/GNN_env/lib/python3.9/threading.py\u001b[0m in \u001b[0;36mwait\u001b[0;34m(self, timeout)\u001b[0m\n\u001b[1;32m    310\u001b[0m         \u001b[0;32mtry\u001b[0m\u001b[0;34m:\u001b[0m    \u001b[0;31m# restore state no matter what (e.g., KeyboardInterrupt)\u001b[0m\u001b[0;34m\u001b[0m\u001b[0;34m\u001b[0m\u001b[0m\n\u001b[1;32m    311\u001b[0m             \u001b[0;32mif\u001b[0m \u001b[0mtimeout\u001b[0m \u001b[0;32mis\u001b[0m \u001b[0;32mNone\u001b[0m\u001b[0;34m:\u001b[0m\u001b[0;34m\u001b[0m\u001b[0;34m\u001b[0m\u001b[0m\n\u001b[0;32m--> 312\u001b[0;31m                 \u001b[0mwaiter\u001b[0m\u001b[0;34m.\u001b[0m\u001b[0macquire\u001b[0m\u001b[0;34m(\u001b[0m\u001b[0;34m)\u001b[0m\u001b[0;34m\u001b[0m\u001b[0;34m\u001b[0m\u001b[0m\n\u001b[0m\u001b[1;32m    313\u001b[0m                 \u001b[0mgotit\u001b[0m \u001b[0;34m=\u001b[0m \u001b[0;32mTrue\u001b[0m\u001b[0;34m\u001b[0m\u001b[0;34m\u001b[0m\u001b[0m\n\u001b[1;32m    314\u001b[0m             \u001b[0;32melse\u001b[0m\u001b[0;34m:\u001b[0m\u001b[0;34m\u001b[0m\u001b[0;34m\u001b[0m\u001b[0m\n",
      "\u001b[0;31mKeyboardInterrupt\u001b[0m: "
     ]
    }
   ],
   "source": [
    "elastic_net_model = linear_model.ElasticNet(fit_intercept = True)\n",
    "\n",
    "parameters = {\n",
    "    'alpha': np.linspace(0.01, 1, 10),\n",
    "    'l1_ratio': np.linspace(0, 1, 10)\n",
    "}\n",
    "\n",
    "elastic_net_cv = cv(elastic_net_model, parameters, X_train, y_train, cf = 5)"
   ]
  },
  {
   "cell_type": "code",
   "execution_count": 24,
   "metadata": {},
   "outputs": [
    {
     "data": {
      "text/plain": [
       "array([0.01   , 0.05125, 0.0925 , 0.13375, 0.175  , 0.21625, 0.2575 ,\n",
       "       0.29875, 0.34   , 0.38125, 0.4225 , 0.46375, 0.505  , 0.54625,\n",
       "       0.5875 , 0.62875, 0.67   , 0.71125, 0.7525 , 0.79375, 0.835  ,\n",
       "       0.87625, 0.9175 , 0.95875, 1.     ])"
      ]
     },
     "execution_count": 24,
     "metadata": {},
     "output_type": "execute_result"
    }
   ],
   "source": [
    "np.linspace(0.01, 1, 25)"
   ]
  },
  {
   "cell_type": "code",
   "execution_count": null,
   "metadata": {},
   "outputs": [],
   "source": []
  }
 ],
 "metadata": {
  "interpreter": {
   "hash": "5509f31e2044e4d39f528bdd5e1bbe95ee9581822c64151f31115901a677525b"
  },
  "kernelspec": {
   "display_name": "Python 3.9.6 64-bit ('GNN_env': conda)",
   "name": "python3"
  },
  "language_info": {
   "codemirror_mode": {
    "name": "ipython",
    "version": 3
   },
   "file_extension": ".py",
   "mimetype": "text/x-python",
   "name": "python",
   "nbconvert_exporter": "python",
   "pygments_lexer": "ipython3",
   "version": "3.9.6"
  },
  "orig_nbformat": 4
 },
 "nbformat": 4,
 "nbformat_minor": 2
}
