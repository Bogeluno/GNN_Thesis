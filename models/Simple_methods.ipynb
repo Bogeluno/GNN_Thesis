{
 "cells": [
  {
   "cell_type": "code",
   "execution_count": 1,
   "metadata": {},
   "outputs": [],
   "source": [
    "import pandas as pd\n",
    "import numpy as np\n",
    "import pickle\n",
    "import glob\n",
    "from tqdm import tqdm\n",
    "import matplotlib.pyplot as plt\n",
    "from sklearn.model_selection import train_test_split, GridSearchCV\n",
    "from sklearn.metrics import r2_score\n",
    "from sklearn import linear_model"
   ]
  },
  {
   "cell_type": "code",
   "execution_count": 2,
   "metadata": {},
   "outputs": [],
   "source": [
    "# Load full Data\n",
    "df_full = pd.read_csv('data/processed/SimpleNNData.csv', index_col=0)\n",
    "y = df_full.time_to_reservation\n",
    "df_full.drop(columns=['time_to_reservation'], inplace=True)\n",
    "weather_var = list(df_full.columns[-22:-1])"
   ]
  },
  {
   "cell_type": "code",
   "execution_count": 5,
   "metadata": {},
   "outputs": [
    {
     "data": {
      "text/html": [
       "<div>\n",
       "<style scoped>\n",
       "    .dataframe tbody tr th:only-of-type {\n",
       "        vertical-align: middle;\n",
       "    }\n",
       "\n",
       "    .dataframe tbody tr th {\n",
       "        vertical-align: top;\n",
       "    }\n",
       "\n",
       "    .dataframe thead th {\n",
       "        text-align: right;\n",
       "    }\n",
       "</style>\n",
       "<table border=\"1\" class=\"dataframe\">\n",
       "  <thead>\n",
       "    <tr style=\"text-align: right;\">\n",
       "      <th></th>\n",
       "      <th>park_fuel</th>\n",
       "      <th>weekend</th>\n",
       "      <th>hour_index</th>\n",
       "      <th>eng_118I</th>\n",
       "      <th>eng_COOPER</th>\n",
       "      <th>eng_I3</th>\n",
       "      <th>eng_X1</th>\n",
       "      <th>lz_102111</th>\n",
       "      <th>lz_102121</th>\n",
       "      <th>lz_102122</th>\n",
       "      <th>...</th>\n",
       "      <th>lz_185122</th>\n",
       "      <th>lz_185123</th>\n",
       "      <th>lz_185124</th>\n",
       "      <th>lz_185131</th>\n",
       "      <th>lz_185132</th>\n",
       "      <th>lz_185141</th>\n",
       "      <th>lz_185142</th>\n",
       "      <th>lz_185143</th>\n",
       "      <th>lz_185154</th>\n",
       "      <th>lz_185203</th>\n",
       "    </tr>\n",
       "  </thead>\n",
       "  <tbody>\n",
       "    <tr>\n",
       "      <th>0</th>\n",
       "      <td>43</td>\n",
       "      <td>0</td>\n",
       "      <td>6.805269</td>\n",
       "      <td>0</td>\n",
       "      <td>0</td>\n",
       "      <td>1</td>\n",
       "      <td>0</td>\n",
       "      <td>0</td>\n",
       "      <td>0</td>\n",
       "      <td>0</td>\n",
       "      <td>...</td>\n",
       "      <td>0</td>\n",
       "      <td>0</td>\n",
       "      <td>0</td>\n",
       "      <td>0</td>\n",
       "      <td>0</td>\n",
       "      <td>0</td>\n",
       "      <td>0</td>\n",
       "      <td>0</td>\n",
       "      <td>0</td>\n",
       "      <td>0</td>\n",
       "    </tr>\n",
       "    <tr>\n",
       "      <th>1</th>\n",
       "      <td>86</td>\n",
       "      <td>0</td>\n",
       "      <td>6.805269</td>\n",
       "      <td>0</td>\n",
       "      <td>0</td>\n",
       "      <td>1</td>\n",
       "      <td>0</td>\n",
       "      <td>0</td>\n",
       "      <td>0</td>\n",
       "      <td>0</td>\n",
       "      <td>...</td>\n",
       "      <td>0</td>\n",
       "      <td>0</td>\n",
       "      <td>0</td>\n",
       "      <td>0</td>\n",
       "      <td>0</td>\n",
       "      <td>0</td>\n",
       "      <td>0</td>\n",
       "      <td>0</td>\n",
       "      <td>0</td>\n",
       "      <td>0</td>\n",
       "    </tr>\n",
       "    <tr>\n",
       "      <th>2</th>\n",
       "      <td>5</td>\n",
       "      <td>0</td>\n",
       "      <td>6.805269</td>\n",
       "      <td>1</td>\n",
       "      <td>0</td>\n",
       "      <td>0</td>\n",
       "      <td>0</td>\n",
       "      <td>0</td>\n",
       "      <td>0</td>\n",
       "      <td>0</td>\n",
       "      <td>...</td>\n",
       "      <td>0</td>\n",
       "      <td>0</td>\n",
       "      <td>0</td>\n",
       "      <td>0</td>\n",
       "      <td>0</td>\n",
       "      <td>0</td>\n",
       "      <td>0</td>\n",
       "      <td>0</td>\n",
       "      <td>0</td>\n",
       "      <td>0</td>\n",
       "    </tr>\n",
       "    <tr>\n",
       "      <th>3</th>\n",
       "      <td>30</td>\n",
       "      <td>0</td>\n",
       "      <td>6.805269</td>\n",
       "      <td>0</td>\n",
       "      <td>0</td>\n",
       "      <td>1</td>\n",
       "      <td>0</td>\n",
       "      <td>0</td>\n",
       "      <td>0</td>\n",
       "      <td>0</td>\n",
       "      <td>...</td>\n",
       "      <td>0</td>\n",
       "      <td>0</td>\n",
       "      <td>0</td>\n",
       "      <td>0</td>\n",
       "      <td>0</td>\n",
       "      <td>0</td>\n",
       "      <td>0</td>\n",
       "      <td>0</td>\n",
       "      <td>0</td>\n",
       "      <td>0</td>\n",
       "    </tr>\n",
       "    <tr>\n",
       "      <th>4</th>\n",
       "      <td>32</td>\n",
       "      <td>0</td>\n",
       "      <td>6.805269</td>\n",
       "      <td>0</td>\n",
       "      <td>1</td>\n",
       "      <td>0</td>\n",
       "      <td>0</td>\n",
       "      <td>0</td>\n",
       "      <td>0</td>\n",
       "      <td>0</td>\n",
       "      <td>...</td>\n",
       "      <td>0</td>\n",
       "      <td>0</td>\n",
       "      <td>0</td>\n",
       "      <td>0</td>\n",
       "      <td>0</td>\n",
       "      <td>0</td>\n",
       "      <td>0</td>\n",
       "      <td>0</td>\n",
       "      <td>0</td>\n",
       "      <td>0</td>\n",
       "    </tr>\n",
       "    <tr>\n",
       "      <th>...</th>\n",
       "      <td>...</td>\n",
       "      <td>...</td>\n",
       "      <td>...</td>\n",
       "      <td>...</td>\n",
       "      <td>...</td>\n",
       "      <td>...</td>\n",
       "      <td>...</td>\n",
       "      <td>...</td>\n",
       "      <td>...</td>\n",
       "      <td>...</td>\n",
       "      <td>...</td>\n",
       "      <td>...</td>\n",
       "      <td>...</td>\n",
       "      <td>...</td>\n",
       "      <td>...</td>\n",
       "      <td>...</td>\n",
       "      <td>...</td>\n",
       "      <td>...</td>\n",
       "      <td>...</td>\n",
       "      <td>...</td>\n",
       "      <td>...</td>\n",
       "    </tr>\n",
       "    <tr>\n",
       "      <th>326733</th>\n",
       "      <td>94</td>\n",
       "      <td>0</td>\n",
       "      <td>6.457874</td>\n",
       "      <td>0</td>\n",
       "      <td>0</td>\n",
       "      <td>1</td>\n",
       "      <td>0</td>\n",
       "      <td>0</td>\n",
       "      <td>0</td>\n",
       "      <td>0</td>\n",
       "      <td>...</td>\n",
       "      <td>0</td>\n",
       "      <td>0</td>\n",
       "      <td>0</td>\n",
       "      <td>0</td>\n",
       "      <td>0</td>\n",
       "      <td>0</td>\n",
       "      <td>0</td>\n",
       "      <td>0</td>\n",
       "      <td>0</td>\n",
       "      <td>0</td>\n",
       "    </tr>\n",
       "    <tr>\n",
       "      <th>326734</th>\n",
       "      <td>57</td>\n",
       "      <td>0</td>\n",
       "      <td>6.457874</td>\n",
       "      <td>1</td>\n",
       "      <td>0</td>\n",
       "      <td>0</td>\n",
       "      <td>0</td>\n",
       "      <td>0</td>\n",
       "      <td>0</td>\n",
       "      <td>0</td>\n",
       "      <td>...</td>\n",
       "      <td>0</td>\n",
       "      <td>0</td>\n",
       "      <td>0</td>\n",
       "      <td>0</td>\n",
       "      <td>0</td>\n",
       "      <td>0</td>\n",
       "      <td>0</td>\n",
       "      <td>0</td>\n",
       "      <td>0</td>\n",
       "      <td>0</td>\n",
       "    </tr>\n",
       "    <tr>\n",
       "      <th>326735</th>\n",
       "      <td>48</td>\n",
       "      <td>0</td>\n",
       "      <td>6.457874</td>\n",
       "      <td>1</td>\n",
       "      <td>0</td>\n",
       "      <td>0</td>\n",
       "      <td>0</td>\n",
       "      <td>0</td>\n",
       "      <td>0</td>\n",
       "      <td>0</td>\n",
       "      <td>...</td>\n",
       "      <td>0</td>\n",
       "      <td>0</td>\n",
       "      <td>0</td>\n",
       "      <td>0</td>\n",
       "      <td>0</td>\n",
       "      <td>0</td>\n",
       "      <td>0</td>\n",
       "      <td>0</td>\n",
       "      <td>0</td>\n",
       "      <td>0</td>\n",
       "    </tr>\n",
       "    <tr>\n",
       "      <th>326736</th>\n",
       "      <td>23</td>\n",
       "      <td>0</td>\n",
       "      <td>6.457874</td>\n",
       "      <td>0</td>\n",
       "      <td>0</td>\n",
       "      <td>1</td>\n",
       "      <td>0</td>\n",
       "      <td>0</td>\n",
       "      <td>0</td>\n",
       "      <td>0</td>\n",
       "      <td>...</td>\n",
       "      <td>0</td>\n",
       "      <td>0</td>\n",
       "      <td>0</td>\n",
       "      <td>0</td>\n",
       "      <td>0</td>\n",
       "      <td>0</td>\n",
       "      <td>0</td>\n",
       "      <td>0</td>\n",
       "      <td>0</td>\n",
       "      <td>0</td>\n",
       "    </tr>\n",
       "    <tr>\n",
       "      <th>326737</th>\n",
       "      <td>76</td>\n",
       "      <td>0</td>\n",
       "      <td>6.457874</td>\n",
       "      <td>1</td>\n",
       "      <td>0</td>\n",
       "      <td>0</td>\n",
       "      <td>0</td>\n",
       "      <td>0</td>\n",
       "      <td>0</td>\n",
       "      <td>0</td>\n",
       "      <td>...</td>\n",
       "      <td>0</td>\n",
       "      <td>0</td>\n",
       "      <td>0</td>\n",
       "      <td>0</td>\n",
       "      <td>0</td>\n",
       "      <td>0</td>\n",
       "      <td>0</td>\n",
       "      <td>0</td>\n",
       "      <td>0</td>\n",
       "      <td>0</td>\n",
       "    </tr>\n",
       "  </tbody>\n",
       "</table>\n",
       "<p>326738 rows × 268 columns</p>\n",
       "</div>"
      ],
      "text/plain": [
       "        park_fuel  weekend  hour_index  eng_118I  eng_COOPER  eng_I3  eng_X1  \\\n",
       "0              43        0    6.805269         0           0       1       0   \n",
       "1              86        0    6.805269         0           0       1       0   \n",
       "2               5        0    6.805269         1           0       0       0   \n",
       "3              30        0    6.805269         0           0       1       0   \n",
       "4              32        0    6.805269         0           1       0       0   \n",
       "...           ...      ...         ...       ...         ...     ...     ...   \n",
       "326733         94        0    6.457874         0           0       1       0   \n",
       "326734         57        0    6.457874         1           0       0       0   \n",
       "326735         48        0    6.457874         1           0       0       0   \n",
       "326736         23        0    6.457874         0           0       1       0   \n",
       "326737         76        0    6.457874         1           0       0       0   \n",
       "\n",
       "        lz_102111  lz_102121  lz_102122  ...  lz_185122  lz_185123  lz_185124  \\\n",
       "0               0          0          0  ...          0          0          0   \n",
       "1               0          0          0  ...          0          0          0   \n",
       "2               0          0          0  ...          0          0          0   \n",
       "3               0          0          0  ...          0          0          0   \n",
       "4               0          0          0  ...          0          0          0   \n",
       "...           ...        ...        ...  ...        ...        ...        ...   \n",
       "326733          0          0          0  ...          0          0          0   \n",
       "326734          0          0          0  ...          0          0          0   \n",
       "326735          0          0          0  ...          0          0          0   \n",
       "326736          0          0          0  ...          0          0          0   \n",
       "326737          0          0          0  ...          0          0          0   \n",
       "\n",
       "        lz_185131  lz_185132  lz_185141  lz_185142  lz_185143  lz_185154  \\\n",
       "0               0          0          0          0          0          0   \n",
       "1               0          0          0          0          0          0   \n",
       "2               0          0          0          0          0          0   \n",
       "3               0          0          0          0          0          0   \n",
       "4               0          0          0          0          0          0   \n",
       "...           ...        ...        ...        ...        ...        ...   \n",
       "326733          0          0          0          0          0          0   \n",
       "326734          0          0          0          0          0          0   \n",
       "326735          0          0          0          0          0          0   \n",
       "326736          0          0          0          0          0          0   \n",
       "326737          0          0          0          0          0          0   \n",
       "\n",
       "        lz_185203  \n",
       "0               0  \n",
       "1               0  \n",
       "2               0  \n",
       "3               0  \n",
       "4               0  \n",
       "...           ...  \n",
       "326733          0  \n",
       "326734          0  \n",
       "326735          0  \n",
       "326736          0  \n",
       "326737          0  \n",
       "\n",
       "[326738 rows x 268 columns]"
      ]
     },
     "execution_count": 5,
     "metadata": {},
     "output_type": "execute_result"
    }
   ],
   "source": [
    "df = df_full.drop(columns=['dist_to_station', 'degree']+weather_var, inplace = False)\n",
    "df"
   ]
  },
  {
   "cell_type": "code",
   "execution_count": 6,
   "metadata": {},
   "outputs": [],
   "source": [
    "X_train, X_test, y_train, y_test = train_test_split(df, y, test_size=0.2)"
   ]
  },
  {
   "cell_type": "code",
   "execution_count": 7,
   "metadata": {},
   "outputs": [
    {
     "name": "stdout",
     "output_type": "stream",
     "text": [
      "Fitting 10 folds for each of 1 candidates, totalling 10 fits\n",
      "[CV] END .................................................... total time=  25.6s\n",
      "[CV] END .................................................... total time=  30.7s\n",
      "[CV] END .................................................... total time=  30.7s\n",
      "[CV] END .................................................... total time=  30.6s\n",
      "[CV] END .................................................... total time=  30.6s\n",
      "[CV] END .................................................... total time=  30.6s\n",
      "[CV] END .................................................... total time=  30.6s\n",
      "[CV] END .................................................... total time=   9.1s\n",
      "[CV] END .................................................... total time=   7.4s\n",
      "[CV] END .................................................... total time=   7.4s\n"
     ]
    },
    {
     "data": {
      "text/plain": [
       "GridSearchCV(cv=10, estimator=LinearRegression(), n_jobs=-2, param_grid={},\n",
       "             return_train_score=True, scoring='neg_mean_squared_error',\n",
       "             verbose=2)"
      ]
     },
     "execution_count": 7,
     "metadata": {},
     "output_type": "execute_result"
    }
   ],
   "source": [
    "cv_select = GridSearchCV(\n",
    "    estimator=linear_model.LinearRegression(), \n",
    "    param_grid={}, \n",
    "    scoring='neg_mean_squared_error', # Use MSE\n",
    "    n_jobs=-2,\n",
    "    return_train_score=True,\n",
    "    verbose=2, \n",
    "    cv=10\n",
    ")\n",
    "\n",
    "cv_select.fit(X_train, y_train)"
   ]
  },
  {
   "cell_type": "code",
   "execution_count": 13,
   "metadata": {},
   "outputs": [
    {
     "data": {
      "text/plain": [
       "0.16170033394182326"
      ]
     },
     "execution_count": 13,
     "metadata": {},
     "output_type": "execute_result"
    }
   ],
   "source": [
    "r2_score(y_test,cv_select.predict(X_test))"
   ]
  },
  {
   "cell_type": "code",
   "execution_count": 9,
   "metadata": {},
   "outputs": [],
   "source": [
    "def cv(model, parameters, X_train, y_train, cf = 5):    \n",
    "    \"\"\"\n",
    "    Performs paramter tunning using cross-validation on a specifed pipe object.\n",
    "    \"\"\"\n",
    "    # perform cross validaiton over the input parameters\n",
    "    cv_select = GridSearchCV(\n",
    "        estimator=model, \n",
    "        param_grid=parameters, \n",
    "        scoring='neg_mean_squared_error', # Use MSE\n",
    "        n_jobs=-2,\n",
    "        return_train_score=True,\n",
    "        verbose=2, \n",
    "        cv=cf\n",
    "    )\n",
    "    cv_select.fit(X_train, y_train)\n",
    "    \n",
    "    return(cv_select)"
   ]
  },
  {
   "cell_type": "code",
   "execution_count": 10,
   "metadata": {},
   "outputs": [
    {
     "name": "stdout",
     "output_type": "stream",
     "text": [
      "Fitting 5 folds for each of 25 candidates, totalling 125 fits\n",
      "[CV] END ..........................alpha=0.01, l1_ratio=0.25; total time=  18.7s\n",
      "[CV] END ..........................alpha=0.01, l1_ratio=0.25; total time=  22.7s\n",
      "[CV] END ..........................alpha=0.01, l1_ratio=0.25; total time=  14.5s\n",
      "[CV] END ..........................alpha=0.01, l1_ratio=0.25; total time=  15.8s\n",
      "[CV] END ..........................alpha=0.01, l1_ratio=0.25; total time=  16.0s\n",
      "[CV] END ...........................alpha=0.01, l1_ratio=0.5; total time=  18.1s\n",
      "[CV] END ...........................alpha=0.01, l1_ratio=0.5; total time=  14.3s\n",
      "[CV] END ...........................alpha=0.01, l1_ratio=0.5; total time=  13.4s\n",
      "[CV] END ...........................alpha=0.01, l1_ratio=0.5; total time=  13.5s\n",
      "[CV] END ...........................alpha=0.01, l1_ratio=0.5; total time=  13.2s\n",
      "[CV] END ..........................alpha=0.01, l1_ratio=0.75; total time=  19.3s\n",
      "[CV] END ..........................alpha=0.01, l1_ratio=0.75; total time=  16.2s\n",
      "[CV] END ..........................alpha=0.01, l1_ratio=0.75; total time=  14.8s\n",
      "[CV] END ..........................alpha=0.01, l1_ratio=0.75; total time=  16.1s\n",
      "[CV] END ...........................alpha=0.01, l1_ratio=1.0; total time=   7.1s\n",
      "[CV] END ..........................alpha=0.01, l1_ratio=0.75; total time=  16.0s\n",
      "[CV] END ...........................alpha=0.01, l1_ratio=1.0; total time=   6.5s\n",
      "[CV] END ...........................alpha=0.01, l1_ratio=1.0; total time=   6.3s\n",
      "[CV] END ...........................alpha=0.01, l1_ratio=1.0; total time=   6.5s\n",
      "[CV] END ...........................alpha=0.01, l1_ratio=1.0; total time=   6.2s\n"
     ]
    },
    {
     "name": "stderr",
     "output_type": "stream",
     "text": [
      "/opt/anaconda3/envs/GNN_env/lib/python3.9/site-packages/sklearn/linear_model/_coordinate_descent.py:530: ConvergenceWarning: Objective did not converge. You might want to increase the number of iterations. Duality gap: 2127650.0721480963, tolerance: 474.9459093456821\n",
      "  model = cd_fast.enet_coordinate_descent(\n",
      "/opt/anaconda3/envs/GNN_env/lib/python3.9/site-packages/sklearn/linear_model/_coordinate_descent.py:530: ConvergenceWarning: Objective did not converge. You might want to increase the number of iterations. Duality gap: 2102191.6859704778, tolerance: 470.06813368214466\n",
      "  model = cd_fast.enet_coordinate_descent(\n"
     ]
    },
    {
     "name": "stdout",
     "output_type": "stream",
     "text": [
      "[CV] END ...........................alpha=0.01, l1_ratio=0.0; total time=11.5min\n"
     ]
    },
    {
     "name": "stderr",
     "output_type": "stream",
     "text": [
      "/opt/anaconda3/envs/GNN_env/lib/python3.9/site-packages/sklearn/linear_model/_coordinate_descent.py:530: ConvergenceWarning: Objective did not converge. You might want to increase the number of iterations. Duality gap: 2130433.682704748, tolerance: 475.4333873236927\n",
      "  model = cd_fast.enet_coordinate_descent(\n"
     ]
    },
    {
     "name": "stdout",
     "output_type": "stream",
     "text": [
      "[CV] END ...........................alpha=0.01, l1_ratio=0.0; total time=11.6min\n",
      "[CV] END ...........................alpha=0.01, l1_ratio=0.0; total time=11.6min\n"
     ]
    },
    {
     "name": "stderr",
     "output_type": "stream",
     "text": [
      "/opt/anaconda3/envs/GNN_env/lib/python3.9/site-packages/sklearn/linear_model/_coordinate_descent.py:530: ConvergenceWarning: Objective did not converge. You might want to increase the number of iterations. Duality gap: 2104406.5587239964, tolerance: 470.52136141300895\n",
      "  model = cd_fast.enet_coordinate_descent(\n",
      "/opt/anaconda3/envs/GNN_env/lib/python3.9/site-packages/sklearn/linear_model/_coordinate_descent.py:530: ConvergenceWarning: Objective did not converge. You might want to increase the number of iterations. Duality gap: 2097708.526626228, tolerance: 469.1800421533928\n",
      "  model = cd_fast.enet_coordinate_descent(\n"
     ]
    },
    {
     "name": "stdout",
     "output_type": "stream",
     "text": [
      "[CV] END ...........................alpha=0.01, l1_ratio=0.0; total time=11.6min\n",
      "[CV] END ...........................alpha=0.01, l1_ratio=0.0; total time=11.7min\n",
      "[CV] END ........................alpha=0.2575, l1_ratio=0.25; total time=   6.1s\n",
      "[CV] END ........................alpha=0.2575, l1_ratio=0.25; total time=   6.1s\n",
      "[CV] END ........................alpha=0.2575, l1_ratio=0.25; total time=   5.4s\n",
      "[CV] END ........................alpha=0.2575, l1_ratio=0.25; total time=   5.5s\n",
      "[CV] END ........................alpha=0.2575, l1_ratio=0.25; total time=   5.6s\n",
      "[CV] END .........................alpha=0.2575, l1_ratio=0.5; total time=   5.5s\n",
      "[CV] END .........................alpha=0.2575, l1_ratio=0.5; total time=   5.5s\n",
      "[CV] END .........................alpha=0.2575, l1_ratio=0.5; total time=   5.6s\n",
      "[CV] END .........................alpha=0.2575, l1_ratio=0.5; total time=   5.4s\n",
      "[CV] END .........................alpha=0.2575, l1_ratio=0.5; total time=   5.5s\n",
      "[CV] END ........................alpha=0.2575, l1_ratio=0.75; total time=   5.5s\n",
      "[CV] END ........................alpha=0.2575, l1_ratio=0.75; total time=   5.6s\n",
      "[CV] END ........................alpha=0.2575, l1_ratio=0.75; total time=   5.4s\n",
      "[CV] END ........................alpha=0.2575, l1_ratio=0.75; total time=   5.4s\n",
      "[CV] END ........................alpha=0.2575, l1_ratio=0.75; total time=   5.5s\n",
      "[CV] END .........................alpha=0.2575, l1_ratio=1.0; total time=   5.4s\n",
      "[CV] END .........................alpha=0.2575, l1_ratio=1.0; total time=   5.5s\n",
      "[CV] END .........................alpha=0.2575, l1_ratio=1.0; total time=   5.4s\n",
      "[CV] END .........................alpha=0.2575, l1_ratio=1.0; total time=   5.4s\n",
      "[CV] END .........................alpha=0.2575, l1_ratio=1.0; total time=   5.5s\n"
     ]
    },
    {
     "name": "stderr",
     "output_type": "stream",
     "text": [
      "/opt/anaconda3/envs/GNN_env/lib/python3.9/site-packages/sklearn/linear_model/_coordinate_descent.py:530: ConvergenceWarning: Objective did not converge. You might want to increase the number of iterations. Duality gap: 2204718.458599311, tolerance: 474.9459093456821\n",
      "  model = cd_fast.enet_coordinate_descent(\n"
     ]
    },
    {
     "name": "stdout",
     "output_type": "stream",
     "text": [
      "[CV] END .........................alpha=0.2575, l1_ratio=0.0; total time=11.5min\n"
     ]
    },
    {
     "name": "stderr",
     "output_type": "stream",
     "text": [
      "/opt/anaconda3/envs/GNN_env/lib/python3.9/site-packages/sklearn/linear_model/_coordinate_descent.py:530: ConvergenceWarning: Objective did not converge. You might want to increase the number of iterations. Duality gap: 2207560.6903657783, tolerance: 475.4333873236927\n",
      "  model = cd_fast.enet_coordinate_descent(\n"
     ]
    },
    {
     "name": "stdout",
     "output_type": "stream",
     "text": [
      "[CV] END .........................alpha=0.2575, l1_ratio=0.0; total time=11.5min\n"
     ]
    },
    {
     "name": "stderr",
     "output_type": "stream",
     "text": [
      "/opt/anaconda3/envs/GNN_env/lib/python3.9/site-packages/sklearn/linear_model/_coordinate_descent.py:530: ConvergenceWarning: Objective did not converge. You might want to increase the number of iterations. Duality gap: 2179355.5591352214, tolerance: 470.06813368214466\n",
      "  model = cd_fast.enet_coordinate_descent(\n"
     ]
    },
    {
     "name": "stdout",
     "output_type": "stream",
     "text": [
      "[CV] END .........................alpha=0.2575, l1_ratio=0.0; total time=10.6min\n"
     ]
    },
    {
     "name": "stderr",
     "output_type": "stream",
     "text": [
      "/opt/anaconda3/envs/GNN_env/lib/python3.9/site-packages/sklearn/linear_model/_coordinate_descent.py:530: ConvergenceWarning: Objective did not converge. You might want to increase the number of iterations. Duality gap: 2174286.105166362, tolerance: 469.1800421533928\n",
      "  model = cd_fast.enet_coordinate_descent(\n"
     ]
    },
    {
     "name": "stdout",
     "output_type": "stream",
     "text": [
      "[CV] END .........................alpha=0.2575, l1_ratio=0.0; total time=10.6min\n"
     ]
    },
    {
     "name": "stderr",
     "output_type": "stream",
     "text": [
      "/opt/anaconda3/envs/GNN_env/lib/python3.9/site-packages/sklearn/linear_model/_coordinate_descent.py:530: ConvergenceWarning: Objective did not converge. You might want to increase the number of iterations. Duality gap: 2181547.9765608334, tolerance: 470.52136141300895\n",
      "  model = cd_fast.enet_coordinate_descent(\n"
     ]
    },
    {
     "name": "stdout",
     "output_type": "stream",
     "text": [
      "[CV] END .........................alpha=0.2575, l1_ratio=0.0; total time=10.7min\n",
      "[CV] END .........................alpha=0.505, l1_ratio=0.25; total time=   6.4s\n",
      "[CV] END .........................alpha=0.505, l1_ratio=0.25; total time=   5.5s\n",
      "[CV] END .........................alpha=0.505, l1_ratio=0.25; total time=   5.5s\n",
      "[CV] END .........................alpha=0.505, l1_ratio=0.25; total time=   5.4s\n",
      "[CV] END .........................alpha=0.505, l1_ratio=0.25; total time=   5.5s\n",
      "[CV] END ..........................alpha=0.505, l1_ratio=0.5; total time=   5.5s\n",
      "[CV] END ..........................alpha=0.505, l1_ratio=0.5; total time=   5.5s\n",
      "[CV] END ..........................alpha=0.505, l1_ratio=0.5; total time=   5.4s\n",
      "[CV] END ..........................alpha=0.505, l1_ratio=0.5; total time=   5.4s\n",
      "[CV] END ..........................alpha=0.505, l1_ratio=0.5; total time=   5.5s\n",
      "[CV] END .........................alpha=0.505, l1_ratio=0.75; total time=   5.4s\n",
      "[CV] END .........................alpha=0.505, l1_ratio=0.75; total time=   5.5s\n",
      "[CV] END .........................alpha=0.505, l1_ratio=0.75; total time=   5.3s\n",
      "[CV] END .........................alpha=0.505, l1_ratio=0.75; total time=   5.4s\n",
      "[CV] END .........................alpha=0.505, l1_ratio=0.75; total time=   5.7s\n",
      "[CV] END ..........................alpha=0.505, l1_ratio=1.0; total time=   5.8s\n",
      "[CV] END ..........................alpha=0.505, l1_ratio=1.0; total time=   5.9s\n",
      "[CV] END ..........................alpha=0.505, l1_ratio=1.0; total time=   5.7s\n",
      "[CV] END ..........................alpha=0.505, l1_ratio=1.0; total time=   5.6s\n"
     ]
    },
    {
     "name": "stderr",
     "output_type": "stream",
     "text": [
      "/opt/anaconda3/envs/GNN_env/lib/python3.9/site-packages/sklearn/linear_model/_coordinate_descent.py:530: ConvergenceWarning: Objective did not converge. You might want to increase the number of iterations. Duality gap: 2229393.090876431, tolerance: 475.4333873236927\n",
      "  model = cd_fast.enet_coordinate_descent(\n",
      "/opt/anaconda3/envs/GNN_env/lib/python3.9/site-packages/sklearn/linear_model/_coordinate_descent.py:530: ConvergenceWarning: Objective did not converge. You might want to increase the number of iterations. Duality gap: 2226609.949511365, tolerance: 474.9459093456821\n",
      "  model = cd_fast.enet_coordinate_descent(\n"
     ]
    },
    {
     "name": "stdout",
     "output_type": "stream",
     "text": [
      "[CV] END ..........................alpha=0.505, l1_ratio=0.0; total time=10.5min\n",
      "[CV] END ..........................alpha=0.505, l1_ratio=0.0; total time=10.5min\n",
      "[CV] END ..........................alpha=0.505, l1_ratio=1.0; total time=   4.8s\n"
     ]
    },
    {
     "name": "stderr",
     "output_type": "stream",
     "text": [
      "/opt/anaconda3/envs/GNN_env/lib/python3.9/site-packages/sklearn/linear_model/_coordinate_descent.py:530: ConvergenceWarning: Objective did not converge. You might want to increase the number of iterations. Duality gap: 2201298.3258497203, tolerance: 470.06813368214466\n",
      "  model = cd_fast.enet_coordinate_descent(\n"
     ]
    },
    {
     "name": "stdout",
     "output_type": "stream",
     "text": [
      "[CV] END ..........................alpha=0.505, l1_ratio=0.0; total time=10.5min\n"
     ]
    },
    {
     "name": "stderr",
     "output_type": "stream",
     "text": [
      "/opt/anaconda3/envs/GNN_env/lib/python3.9/site-packages/sklearn/linear_model/_coordinate_descent.py:530: ConvergenceWarning: Objective did not converge. You might want to increase the number of iterations. Duality gap: 2196360.775796879, tolerance: 469.1800421533928\n",
      "  model = cd_fast.enet_coordinate_descent(\n"
     ]
    },
    {
     "name": "stdout",
     "output_type": "stream",
     "text": [
      "[CV] END ..........................alpha=0.505, l1_ratio=0.0; total time=10.5min\n",
      "[CV] END ........................alpha=0.7525, l1_ratio=0.25; total time=   6.1s\n",
      "[CV] END ........................alpha=0.7525, l1_ratio=0.25; total time=   6.0s\n",
      "[CV] END ........................alpha=0.7525, l1_ratio=0.25; total time=   6.0s\n",
      "[CV] END ........................alpha=0.7525, l1_ratio=0.25; total time=   5.8s\n",
      "[CV] END ........................alpha=0.7525, l1_ratio=0.25; total time=   5.9s\n",
      "[CV] END .........................alpha=0.7525, l1_ratio=0.5; total time=   6.0s\n",
      "[CV] END .........................alpha=0.7525, l1_ratio=0.5; total time=   6.0s\n",
      "[CV] END .........................alpha=0.7525, l1_ratio=0.5; total time=   5.8s\n",
      "[CV] END .........................alpha=0.7525, l1_ratio=0.5; total time=   6.0s\n",
      "[CV] END .........................alpha=0.7525, l1_ratio=0.5; total time=   6.0s\n",
      "[CV] END ........................alpha=0.7525, l1_ratio=0.75; total time=   6.1s\n",
      "[CV] END ........................alpha=0.7525, l1_ratio=0.75; total time=   6.1s\n",
      "[CV] END ........................alpha=0.7525, l1_ratio=0.75; total time=   6.6s\n",
      "[CV] END ........................alpha=0.7525, l1_ratio=0.75; total time=   6.3s\n",
      "[CV] END ........................alpha=0.7525, l1_ratio=0.75; total time=   6.6s\n",
      "[CV] END .........................alpha=0.7525, l1_ratio=1.0; total time=   6.5s\n",
      "[CV] END .........................alpha=0.7525, l1_ratio=1.0; total time=   6.3s\n",
      "[CV] END .........................alpha=0.7525, l1_ratio=1.0; total time=   6.3s\n",
      "[CV] END .........................alpha=0.7525, l1_ratio=1.0; total time=   6.9s\n",
      "[CV] END .........................alpha=0.7525, l1_ratio=1.0; total time=   6.3s\n"
     ]
    },
    {
     "name": "stderr",
     "output_type": "stream",
     "text": [
      "/opt/anaconda3/envs/GNN_env/lib/python3.9/site-packages/sklearn/linear_model/_coordinate_descent.py:530: ConvergenceWarning: Objective did not converge. You might want to increase the number of iterations. Duality gap: 2203540.6867274335, tolerance: 470.52136141300895\n",
      "  model = cd_fast.enet_coordinate_descent(\n"
     ]
    },
    {
     "name": "stdout",
     "output_type": "stream",
     "text": [
      "[CV] END ..........................alpha=0.505, l1_ratio=0.0; total time=10.5min\n"
     ]
    },
    {
     "name": "stderr",
     "output_type": "stream",
     "text": [
      "/opt/anaconda3/envs/GNN_env/lib/python3.9/site-packages/sklearn/linear_model/_coordinate_descent.py:530: ConvergenceWarning: Objective did not converge. You might want to increase the number of iterations. Duality gap: 2242864.084192298, tolerance: 474.9459093456821\n",
      "  model = cd_fast.enet_coordinate_descent(\n"
     ]
    },
    {
     "name": "stdout",
     "output_type": "stream",
     "text": [
      "[CV] END .........................alpha=0.7525, l1_ratio=0.0; total time=10.9min\n"
     ]
    },
    {
     "name": "stderr",
     "output_type": "stream",
     "text": [
      "/opt/anaconda3/envs/GNN_env/lib/python3.9/site-packages/sklearn/linear_model/_coordinate_descent.py:530: ConvergenceWarning: Objective did not converge. You might want to increase the number of iterations. Duality gap: 2245615.607550922, tolerance: 475.4333873236927\n",
      "  model = cd_fast.enet_coordinate_descent(\n",
      "/opt/anaconda3/envs/GNN_env/lib/python3.9/site-packages/sklearn/linear_model/_coordinate_descent.py:530: ConvergenceWarning: Objective did not converge. You might want to increase the number of iterations. Duality gap: 2217617.563340113, tolerance: 470.06813368214466\n",
      "  model = cd_fast.enet_coordinate_descent(\n"
     ]
    },
    {
     "name": "stdout",
     "output_type": "stream",
     "text": [
      "[CV] END .........................alpha=0.7525, l1_ratio=0.0; total time=10.9min\n"
     ]
    },
    {
     "name": "stderr",
     "output_type": "stream",
     "text": [
      "/opt/anaconda3/envs/GNN_env/lib/python3.9/site-packages/sklearn/linear_model/_coordinate_descent.py:530: ConvergenceWarning: Objective did not converge. You might want to increase the number of iterations. Duality gap: 2212770.9868416977, tolerance: 469.1800421533928\n",
      "  model = cd_fast.enet_coordinate_descent(\n"
     ]
    },
    {
     "name": "stdout",
     "output_type": "stream",
     "text": [
      "[CV] END .........................alpha=0.7525, l1_ratio=0.0; total time=10.9min\n",
      "[CV] END .........................alpha=0.7525, l1_ratio=0.0; total time=10.9min\n",
      "[CV] END ...........................alpha=1.0, l1_ratio=0.25; total time=   7.4s\n",
      "[CV] END ...........................alpha=1.0, l1_ratio=0.25; total time=   6.3s\n",
      "[CV] END ...........................alpha=1.0, l1_ratio=0.25; total time=   6.2s\n",
      "[CV] END ...........................alpha=1.0, l1_ratio=0.25; total time=   6.3s\n",
      "[CV] END ...........................alpha=1.0, l1_ratio=0.25; total time=   6.4s\n",
      "[CV] END ............................alpha=1.0, l1_ratio=0.5; total time=   6.4s\n"
     ]
    },
    {
     "name": "stderr",
     "output_type": "stream",
     "text": [
      "/opt/anaconda3/envs/GNN_env/lib/python3.9/site-packages/sklearn/linear_model/_coordinate_descent.py:530: ConvergenceWarning: Objective did not converge. You might want to increase the number of iterations. Duality gap: 2219881.9858055967, tolerance: 470.52136141300895\n",
      "  model = cd_fast.enet_coordinate_descent(\n"
     ]
    },
    {
     "name": "stdout",
     "output_type": "stream",
     "text": [
      "[CV] END ............................alpha=1.0, l1_ratio=0.5; total time=   6.5s\n",
      "[CV] END .........................alpha=0.7525, l1_ratio=0.0; total time=10.8min\n",
      "[CV] END ............................alpha=1.0, l1_ratio=0.5; total time=   5.7s\n",
      "[CV] END ............................alpha=1.0, l1_ratio=0.5; total time=   6.1s\n",
      "[CV] END ............................alpha=1.0, l1_ratio=0.5; total time=   5.7s\n",
      "[CV] END ...........................alpha=1.0, l1_ratio=0.75; total time=   5.9s\n",
      "[CV] END ...........................alpha=1.0, l1_ratio=0.75; total time=   5.6s\n",
      "[CV] END ...........................alpha=1.0, l1_ratio=0.75; total time=   5.8s\n",
      "[CV] END ...........................alpha=1.0, l1_ratio=0.75; total time=   5.7s\n",
      "[CV] END ...........................alpha=1.0, l1_ratio=0.75; total time=   5.9s\n",
      "[CV] END ............................alpha=1.0, l1_ratio=1.0; total time=   5.9s\n",
      "[CV] END ............................alpha=1.0, l1_ratio=1.0; total time=   5.9s\n",
      "[CV] END ............................alpha=1.0, l1_ratio=1.0; total time=   5.9s\n",
      "[CV] END ............................alpha=1.0, l1_ratio=1.0; total time=   5.8s\n",
      "[CV] END ............................alpha=1.0, l1_ratio=1.0; total time=   5.7s\n"
     ]
    },
    {
     "name": "stderr",
     "output_type": "stream",
     "text": [
      "/opt/anaconda3/envs/GNN_env/lib/python3.9/site-packages/sklearn/linear_model/_coordinate_descent.py:530: ConvergenceWarning: Objective did not converge. You might want to increase the number of iterations. Duality gap: 2255743.8258970305, tolerance: 474.9459093456821\n",
      "  model = cd_fast.enet_coordinate_descent(\n"
     ]
    },
    {
     "name": "stdout",
     "output_type": "stream",
     "text": [
      "[CV] END ............................alpha=1.0, l1_ratio=0.0; total time=10.3min\n"
     ]
    },
    {
     "name": "stderr",
     "output_type": "stream",
     "text": [
      "/opt/anaconda3/envs/GNN_env/lib/python3.9/site-packages/sklearn/linear_model/_coordinate_descent.py:530: ConvergenceWarning: Objective did not converge. You might want to increase the number of iterations. Duality gap: 2258473.6159841563, tolerance: 475.4333873236927\n",
      "  model = cd_fast.enet_coordinate_descent(\n"
     ]
    },
    {
     "name": "stdout",
     "output_type": "stream",
     "text": [
      "[CV] END ............................alpha=1.0, l1_ratio=0.0; total time= 7.7min\n"
     ]
    },
    {
     "name": "stderr",
     "output_type": "stream",
     "text": [
      "/opt/anaconda3/envs/GNN_env/lib/python3.9/site-packages/sklearn/linear_model/_coordinate_descent.py:530: ConvergenceWarning: Objective did not converge. You might want to increase the number of iterations. Duality gap: 2230559.114592219, tolerance: 470.06813368214466\n",
      "  model = cd_fast.enet_coordinate_descent(\n"
     ]
    },
    {
     "name": "stdout",
     "output_type": "stream",
     "text": [
      "[CV] END ............................alpha=1.0, l1_ratio=0.0; total time= 6.7min\n"
     ]
    },
    {
     "name": "stderr",
     "output_type": "stream",
     "text": [
      "/opt/anaconda3/envs/GNN_env/lib/python3.9/site-packages/sklearn/linear_model/_coordinate_descent.py:530: ConvergenceWarning: Objective did not converge. You might want to increase the number of iterations. Duality gap: 2232835.190073114, tolerance: 470.52136141300895\n",
      "  model = cd_fast.enet_coordinate_descent(\n",
      "/opt/anaconda3/envs/GNN_env/lib/python3.9/site-packages/sklearn/linear_model/_coordinate_descent.py:530: ConvergenceWarning: Objective did not converge. You might want to increase the number of iterations. Duality gap: 2225777.7209725725, tolerance: 469.1800421533928\n",
      "  model = cd_fast.enet_coordinate_descent(\n"
     ]
    },
    {
     "name": "stdout",
     "output_type": "stream",
     "text": [
      "[CV] END ............................alpha=1.0, l1_ratio=0.0; total time= 6.6min\n",
      "[CV] END ............................alpha=1.0, l1_ratio=0.0; total time= 6.7min\n"
     ]
    },
    {
     "name": "stderr",
     "output_type": "stream",
     "text": [
      "/opt/anaconda3/envs/GNN_env/lib/python3.9/site-packages/sklearn/linear_model/_coordinate_descent.py:530: ConvergenceWarning: Objective did not converge. You might want to increase the number of iterations. Duality gap: 2640769.112225657, tolerance: 590.0378905459871\n",
      "  model = cd_fast.enet_coordinate_descent(\n"
     ]
    }
   ],
   "source": [
    "elastic_net_model = linear_model.ElasticNet(fit_intercept = True)\n",
    "\n",
    "parameters = {\n",
    "    'alpha': np.linspace(0.01, 1, 5),\n",
    "    'l1_ratio': np.linspace(0, 1, 5)\n",
    "}\n",
    "\n",
    "elastic_net_cv = cv(elastic_net_model, parameters, X_train, y_train, cf = 5)"
   ]
  },
  {
   "cell_type": "code",
   "execution_count": 11,
   "metadata": {},
   "outputs": [
    {
     "data": {
      "text/plain": [
       "array([4.8260557 , 2.37336923, 3.22173179, ..., 1.35726828, 2.15729017,\n",
       "       3.02545917])"
      ]
     },
     "execution_count": 11,
     "metadata": {},
     "output_type": "execute_result"
    }
   ],
   "source": [
    "elastic_net_cv.predict(X_test)"
   ]
  },
  {
   "cell_type": "code",
   "execution_count": 12,
   "metadata": {},
   "outputs": [
    {
     "data": {
      "text/plain": [
       "0.11895492866154489"
      ]
     },
     "execution_count": 12,
     "metadata": {},
     "output_type": "execute_result"
    }
   ],
   "source": [
    "r2_score(y_test,elastic_net_cv.predict(X_test))"
   ]
  },
  {
   "cell_type": "code",
   "execution_count": 14,
   "metadata": {},
   "outputs": [
    {
     "data": {
      "text/plain": [
       "ElasticNet(alpha=0.01, l1_ratio=0.0)"
      ]
     },
     "execution_count": 14,
     "metadata": {},
     "output_type": "execute_result"
    }
   ],
   "source": [
    "elastic_net_cv.best_estimator_"
   ]
  },
  {
   "cell_type": "code",
   "execution_count": 15,
   "metadata": {},
   "outputs": [],
   "source": [
    "from sklearn.decomposition import PCA"
   ]
  },
  {
   "cell_type": "code",
   "execution_count": 24,
   "metadata": {},
   "outputs": [],
   "source": [
    "pca = PCA(n_components=100)"
   ]
  },
  {
   "cell_type": "code",
   "execution_count": 25,
   "metadata": {},
   "outputs": [],
   "source": [
    "Xp = df.filter(regex = 'lz').values"
   ]
  },
  {
   "cell_type": "code",
   "execution_count": 26,
   "metadata": {},
   "outputs": [
    {
     "data": {
      "text/plain": [
       "PCA(n_components=100)"
      ]
     },
     "execution_count": 26,
     "metadata": {},
     "output_type": "execute_result"
    }
   ],
   "source": [
    "pca.fit(Xp)"
   ]
  },
  {
   "cell_type": "code",
   "execution_count": 27,
   "metadata": {},
   "outputs": [
    {
     "data": {
      "text/plain": [
       "array([0.02903775, 0.05388129, 0.07257484, 0.08953093, 0.10530241,\n",
       "       0.12059762, 0.13218551, 0.14353277, 0.15450656, 0.16506389,\n",
       "       0.17540181, 0.18504975, 0.19464576, 0.20411271, 0.21323638,\n",
       "       0.22229034, 0.23117606, 0.23996874, 0.24867303, 0.25725714,\n",
       "       0.26571696, 0.27399474, 0.28211597, 0.28988929, 0.29741365,\n",
       "       0.30487201, 0.31228631, 0.31965429, 0.32695363, 0.33414454,\n",
       "       0.34120835, 0.34819275, 0.35507726, 0.36172459, 0.36830281,\n",
       "       0.37483547, 0.3812767 , 0.38759816, 0.39379472, 0.39994173,\n",
       "       0.40603396, 0.41206025, 0.41805706, 0.42399327, 0.42988186,\n",
       "       0.43575522, 0.44157395, 0.44731975, 0.45303012, 0.45871893,\n",
       "       0.46438029, 0.46999075, 0.47552759, 0.48098822, 0.48640892,\n",
       "       0.49177495, 0.4970765 , 0.50228383, 0.50743417, 0.51252245,\n",
       "       0.51752586, 0.52237667, 0.52715694, 0.53190064, 0.53661109,\n",
       "       0.54129828, 0.54595757, 0.55058707, 0.55519188, 0.55974335,\n",
       "       0.56429087, 0.56877174, 0.57324974, 0.57768522, 0.58206657,\n",
       "       0.58643912, 0.59078215, 0.59511146, 0.59939128, 0.60365981,\n",
       "       0.60785725, 0.61201528, 0.61614963, 0.62021287, 0.6242574 ,\n",
       "       0.62821175, 0.63214877, 0.6360718 , 0.63996744, 0.64384182,\n",
       "       0.64769236, 0.65152495, 0.65533165, 0.65910847, 0.66285542,\n",
       "       0.66658527, 0.6702943 , 0.67397821, 0.67764606, 0.68130619])"
      ]
     },
     "execution_count": 27,
     "metadata": {},
     "output_type": "execute_result"
    }
   ],
   "source": [
    "np.cumsum(pca.explained_variance_ratio_)"
   ]
  },
  {
   "cell_type": "code",
   "execution_count": null,
   "metadata": {},
   "outputs": [],
   "source": []
  }
 ],
 "metadata": {
  "interpreter": {
   "hash": "5509f31e2044e4d39f528bdd5e1bbe95ee9581822c64151f31115901a677525b"
  },
  "kernelspec": {
   "display_name": "Python 3.9.6 64-bit ('GNN_env': conda)",
   "name": "python3"
  },
  "language_info": {
   "codemirror_mode": {
    "name": "ipython",
    "version": 3
   },
   "file_extension": ".py",
   "mimetype": "text/x-python",
   "name": "python",
   "nbconvert_exporter": "python",
   "pygments_lexer": "ipython3",
   "version": "3.9.6"
  },
  "orig_nbformat": 4
 },
 "nbformat": 4,
 "nbformat_minor": 2
}
