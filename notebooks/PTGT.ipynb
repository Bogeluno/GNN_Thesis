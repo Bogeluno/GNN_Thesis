{
 "cells": [
  {
   "cell_type": "code",
   "execution_count": 51,
   "source": [
    "import torch\n",
    "from torch.nn import functional as F\n",
    "\n",
    "import pytorch_lightning as pl\n",
    "from pytorch_lightning.callbacks.early_stopping import EarlyStopping\n",
    "\n",
    "from torch_geometric_temporal.nn.recurrent import DCRNN\n",
    "from torch_geometric_temporal.dataset import ChickenpoxDatasetLoader, EnglandCovidDatasetLoader\n",
    "from torch_geometric_temporal.signal import temporal_signal_split"
   ],
   "outputs": [],
   "metadata": {}
  },
  {
   "cell_type": "code",
   "execution_count": 14,
   "source": [
    "class LitDiffConvModel(pl.LightningModule):\n",
    "\n",
    "    def __init__(self, node_features, filters):\n",
    "        super().__init__()\n",
    "        self.recurrent = DCRNN(node_features, filters, 1)\n",
    "        self.linear = torch.nn.Linear(filters, 1)\n",
    "\n",
    "\n",
    "    def configure_optimizers(self):\n",
    "        optimizer = torch.optim.Adam(self.parameters(), lr=1e-2)\n",
    "        return optimizer\n",
    "\n",
    "    def training_step(self, train_batch, batch_idx):\n",
    "        x = train_batch.x\n",
    "        y = train_batch.y.view(-1, 1)\n",
    "        edge_index = train_batch.edge_index\n",
    "        h = self.recurrent(x, edge_index)\n",
    "        h = F.relu(h)\n",
    "        h = self.linear(h)\n",
    "        loss = F.mse_loss(h, y)\n",
    "        return loss\n",
    "\n",
    "    def validation_step(self, val_batch, batch_idx):\n",
    "        x = val_batch.x\n",
    "        y = val_batch.y.view(-1, 1)\n",
    "        edge_index = val_batch.edge_index\n",
    "        h = self.recurrent(x, edge_index)\n",
    "        h = F.relu(h)\n",
    "        h = self.linear(h)\n",
    "        loss = F.mse_loss(h, y)\n",
    "        metrics = {'val_loss': loss}\n",
    "        self.log_dict(metrics)\n",
    "        return metrics"
   ],
   "outputs": [],
   "metadata": {}
  },
  {
   "cell_type": "code",
   "execution_count": 44,
   "source": [
    "loader = ChickenpoxDatasetLoader()\n",
    "\n",
    "dataset_loader = loader.get_dataset(lags = 32)\n",
    "\n",
    "train_loader, val_loader = temporal_signal_split(dataset_loader,\n",
    "                                                 train_ratio=0.2)"
   ],
   "outputs": [],
   "metadata": {}
  },
  {
   "cell_type": "code",
   "execution_count": 18,
   "source": [
    "model = LitDiffConvModel(node_features=32,\n",
    "                         filters=16)\n",
    "\n",
    "early_stop_callback = EarlyStopping(monitor='val_loss',\n",
    "                                    min_delta=0.00,\n",
    "                                    patience=10,\n",
    "                                    verbose=False,\n",
    "                                    mode='max')"
   ],
   "outputs": [],
   "metadata": {}
  },
  {
   "cell_type": "code",
   "execution_count": 19,
   "source": [
    "trainer = pl.Trainer(callbacks=[early_stop_callback])\n",
    "\n",
    "trainer.fit(model, train_loader, val_loader)"
   ],
   "outputs": [
    {
     "output_type": "stream",
     "name": "stderr",
     "text": [
      "GPU available: False, used: False\n",
      "TPU available: False, using: 0 TPU cores\n",
      "IPU available: False, using: 0 IPUs\n",
      "\n",
      "  | Name      | Type   | Params\n",
      "-------------------------------------\n",
      "0 | recurrent | DCRNN  | 4.7 K \n",
      "1 | linear    | Linear | 17    \n",
      "-------------------------------------\n",
      "4.7 K     Trainable params\n",
      "0         Non-trainable params\n",
      "4.7 K     Total params\n",
      "0.019     Total estimated model params size (MB)\n"
     ]
    },
    {
     "output_type": "stream",
     "name": "stdout",
     "text": [
      "Epoch 176: : 490it [00:01, 309.76it/s, loss=0.19, v_num=0]\n"
     ]
    }
   ],
   "metadata": {}
  },
  {
   "cell_type": "code",
   "execution_count": 50,
   "source": [
    "dataset_loader.edge_index"
   ],
   "outputs": [
    {
     "output_type": "execute_result",
     "data": {
      "text/plain": [
       "array([[ 0,  0,  0,  0,  0,  0,  0,  1,  1,  1,  1,  2,  2,  2,  2,  3,\n",
       "         3,  3,  3,  3,  3,  4,  4,  5,  5,  5,  5,  6,  6,  6,  6,  6,\n",
       "         6,  6,  7,  7,  7,  7,  8,  8,  8,  8,  8,  9,  9,  9,  9,  9,\n",
       "        10, 10, 10, 10, 10, 10, 10, 10, 11, 11, 11, 11, 11, 12, 12, 12,\n",
       "        12, 13, 13, 13, 13, 13, 13, 13, 13, 14, 14, 14, 14, 14, 14, 15,\n",
       "        15, 15, 16, 16, 16, 16, 16, 17, 17, 17, 17, 18, 18, 18, 18, 18,\n",
       "        18, 18, 19, 19, 19, 19],\n",
       "       [10,  6, 13,  1,  0,  5, 16,  0, 16,  1, 14, 10,  8,  2,  5,  8,\n",
       "        15, 12,  9, 10,  3,  4, 13,  0, 10,  2,  5,  0, 16,  6, 14, 13,\n",
       "        11, 18,  7, 17, 11, 18,  3,  2, 15,  8, 10,  9, 13,  3, 12, 10,\n",
       "         5,  9,  8,  3, 10,  2, 13,  0,  6, 11,  7, 13, 18,  3,  9, 13,\n",
       "        12, 13,  9,  6,  4, 12,  0, 11, 10, 18, 19,  1, 14,  6, 16,  3,\n",
       "        15,  8, 16, 14,  1,  0,  6,  7, 19, 17, 18, 14, 18, 17,  7,  6,\n",
       "        19, 11, 18, 14, 19, 17]])"
      ]
     },
     "metadata": {},
     "execution_count": 50
    }
   ],
   "metadata": {}
  },
  {
   "cell_type": "code",
   "execution_count": 52,
   "source": [
    "loader = EnglandCovidDatasetLoader()\n",
    "\n",
    "dataset_loader = loader.get_dataset(lags = 32)\n",
    "\n",
    "train_loader, val_loader = temporal_signal_split(dataset_loader,\n",
    "                                                 train_ratio=0.2)"
   ],
   "outputs": [],
   "metadata": {}
  },
  {
   "cell_type": "code",
   "execution_count": 62,
   "source": [
    "dataset_loader.edge_indices[1].shape"
   ],
   "outputs": [
    {
     "output_type": "execute_result",
     "data": {
      "text/plain": [
       "(2, 1743)"
      ]
     },
     "metadata": {},
     "execution_count": 62
    }
   ],
   "metadata": {}
  },
  {
   "cell_type": "code",
   "execution_count": null,
   "source": [],
   "outputs": [],
   "metadata": {}
  }
 ],
 "metadata": {
  "orig_nbformat": 4,
  "language_info": {
   "name": "python",
   "version": "3.9.6",
   "mimetype": "text/x-python",
   "codemirror_mode": {
    "name": "ipython",
    "version": 3
   },
   "pygments_lexer": "ipython3",
   "nbconvert_exporter": "python",
   "file_extension": ".py"
  },
  "kernelspec": {
   "name": "python3",
   "display_name": "Python 3.9.6 64-bit ('GNN_env': conda)"
  },
  "interpreter": {
   "hash": "de6ba8d017a6d971cdf6b22028d449fee88a2d46fed4e213ca09e144ede73845"
  }
 },
 "nbformat": 4,
 "nbformat_minor": 2
}