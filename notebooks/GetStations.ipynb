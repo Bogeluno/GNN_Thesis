{
 "cells": [
  {
   "cell_type": "code",
   "execution_count": 87,
   "metadata": {},
   "outputs": [],
   "source": [
    "from bs4 import BeautifulSoup\n",
    "import requests\n",
    "import html\n",
    "import re\n",
    "import folium\n",
    "import pickle"
   ]
  },
  {
   "cell_type": "code",
   "execution_count": 11,
   "metadata": {},
   "outputs": [],
   "source": [
    "r_S = requests.get('https://da.wikipedia.org/wiki/S-togsstationer').text\n",
    "soup_S = BeautifulSoup(r_S, 'html.parser')"
   ]
  },
  {
   "cell_type": "code",
   "execution_count": 12,
   "metadata": {},
   "outputs": [],
   "source": [
    "stations_S = [re.findall(r'title=\"([^\"]+)',str(x.findAll(['td'])[0]))[0] for x in soup_S.findAll('table',{\"class\":\"wikitable sortable\"})[0].findAll(['tr'])[1:]]"
   ]
  },
  {
   "cell_type": "code",
   "execution_count": 13,
   "metadata": {},
   "outputs": [],
   "source": [
    "r_M = requests.get('https://en.wikipedia.org/wiki/List_of_Copenhagen_Metro_stations').text\n",
    "soup_M = BeautifulSoup(r_M, 'html.parser')"
   ]
  },
  {
   "cell_type": "code",
   "execution_count": 14,
   "metadata": {},
   "outputs": [],
   "source": [
    "stations_M = [re.findall(r'title=\"([^\"|\\()]+)',str(x))[0] for x in soup_M.findAll('table')[1].findAll(['tr'])[1:] if 'S-train' not in re.findall(r'title=\"([^\"]+)',str(x.findAll(['td'])[-1]))]"
   ]
  },
  {
   "cell_type": "code",
   "execution_count": 15,
   "metadata": {},
   "outputs": [],
   "source": [
    "stations_R = ['Tårnby Station']\n",
    "\n",
    "stations = stations_S + stations_M + stations_R"
   ]
  },
  {
   "cell_type": "code",
   "execution_count": 16,
   "metadata": {},
   "outputs": [
    {
     "data": {
      "text/plain": [
       "['Albertslund Station',\n",
       " 'Allerød Station',\n",
       " 'Avedøre Station',\n",
       " 'Bagsværd Station',\n",
       " 'Ballerup Station',\n",
       " 'Bernstorffsvej Station',\n",
       " 'Birkerød Station',\n",
       " 'Bispebjerg Station',\n",
       " 'Brøndby Strand Station',\n",
       " 'Brøndbyøster Station',\n",
       " 'Buddinge Station',\n",
       " 'Carlsberg Station',\n",
       " 'Charlottenlund Station',\n",
       " 'Danshøj Station',\n",
       " 'Dybbølsbro Station',\n",
       " 'Dyssegård Station',\n",
       " 'Egedal Station',\n",
       " 'Emdrup Station',\n",
       " 'Farum Station',\n",
       " 'Flintholm Station',\n",
       " 'Frederikssund Station',\n",
       " 'Friheden Station',\n",
       " 'Fuglebakken Station',\n",
       " 'Gentofte Station',\n",
       " 'Glostrup Station',\n",
       " 'Greve Station',\n",
       " 'Grøndal Station',\n",
       " 'Hareskov Station',\n",
       " 'Hellerup Station',\n",
       " 'Herlev Station',\n",
       " 'Hillerød Station',\n",
       " 'Holte Station',\n",
       " 'Hundige Station',\n",
       " 'Husum Station',\n",
       " 'Hvidovre Station',\n",
       " 'Høje Taastrup Station',\n",
       " 'Høvelte Trinbræt',\n",
       " 'Ishøj Station',\n",
       " 'Islev Station',\n",
       " 'Jersie Station',\n",
       " 'Jyllingevej Station',\n",
       " 'Jægersborg Station',\n",
       " 'Karlslunde Station',\n",
       " 'KB Hallen Station',\n",
       " 'Kildebakke Station',\n",
       " 'Kildedal Station',\n",
       " 'Klampenborg Station',\n",
       " 'Københavns Hovedbanegård',\n",
       " 'Køge Station',\n",
       " 'Køge Nord Station',\n",
       " 'Langgade Station',\n",
       " 'Lyngby Station',\n",
       " 'Malmparken Station',\n",
       " 'Måløv Station',\n",
       " 'Nordhavn Station',\n",
       " 'Ny Ellebjerg Station',\n",
       " 'Nørrebro Station',\n",
       " 'Nørreport Station',\n",
       " 'Ordrup Station',\n",
       " 'Peter Bangs Vej Station',\n",
       " 'Ryparken Station',\n",
       " 'Rødovre Station',\n",
       " 'Sjælør Station',\n",
       " 'Skovbrynet Station',\n",
       " 'Skovlunde Station',\n",
       " 'Solrød Strand Station',\n",
       " 'Sorgenfri Station',\n",
       " 'Stengården Station',\n",
       " 'Stenløse Station',\n",
       " 'Svanemøllen Station',\n",
       " 'Sydhavn Station',\n",
       " 'Taastrup Station',\n",
       " 'Valby Station',\n",
       " 'Vallensbæk Station',\n",
       " 'Vangede Station',\n",
       " 'Vanløse Station',\n",
       " 'Veksø Station',\n",
       " 'Vesterport Station',\n",
       " 'Vigerslev Allé Station',\n",
       " 'Vinge Station',\n",
       " 'Virum Station',\n",
       " 'Værløse Station',\n",
       " 'Ølby Station',\n",
       " 'Ølstykke Station',\n",
       " 'Østerport Station',\n",
       " 'Ålholm Station',\n",
       " 'Åmarken Station',\n",
       " 'Aksel Møllers Have Station',\n",
       " 'Amager Strand Station',\n",
       " 'Amagerbro Station',\n",
       " 'Bella Center Station',\n",
       " 'Christianshavn Station',\n",
       " 'DR Byen Station',\n",
       " 'Enghave Plads Station',\n",
       " 'Fasanvej Station',\n",
       " 'Femøren Station',\n",
       " 'Forum Station',\n",
       " 'Frederiksberg Station',\n",
       " 'Frederiksberg Allé Station',\n",
       " 'Gammel Strand Station',\n",
       " 'Islands Brygge Station',\n",
       " 'Kastrup Station',\n",
       " 'Kongens Nytorv Station',\n",
       " 'Lergravsparken Station',\n",
       " 'Lindevang Station',\n",
       " 'Lufthavnen Station',\n",
       " 'Marmorkirken Station',\n",
       " 'Nørrebros Runddel Station',\n",
       " 'Nuuks Plads Station',\n",
       " 'Orientkaj Station ',\n",
       " 'Ørestad Station',\n",
       " 'Øresund Station',\n",
       " 'Poul Henningsens Plads Station',\n",
       " 'Rådhuspladsen Station',\n",
       " 'Skjolds Plads Station',\n",
       " 'Sundby Station',\n",
       " 'Trianglen Station',\n",
       " 'Vestamager Station',\n",
       " 'Vibenshus Runddel Station',\n",
       " 'Tårnby Station']"
      ]
     },
     "execution_count": 16,
     "metadata": {},
     "output_type": "execute_result"
    }
   ],
   "source": [
    "stations"
   ]
  },
  {
   "cell_type": "code",
   "execution_count": 44,
   "metadata": {},
   "outputs": [
    {
     "name": "stdout",
     "output_type": "stream",
     "text": [
      "Husum Station\n",
      "Fasanvej Station\n",
      "Forum Station\n"
     ]
    }
   ],
   "source": [
    "stations_loc = {}\n",
    "\n",
    "for s in stations:\n",
    "    try:\n",
    "        stations_loc[s] = get_location(s)\n",
    "    except:\n",
    "        print(s)"
   ]
  },
  {
   "cell_type": "code",
   "execution_count": 43,
   "metadata": {},
   "outputs": [],
   "source": [
    "def get_location(s):\n",
    "    r = requests.get(f\"http://api.positionstack.com/v1/forward?access_key=6dc13a7ce41f830eb485af606a79617b&query={s}\").json().get('data')\n",
    "\n",
    "    r_dk = [l for l in r if l.get('country') == 'Denmark']\n",
    "\n",
    "    if len(r_dk) == 0:\n",
    "        print(s)\n",
    "        return None\n",
    "    else:\n",
    "        return (r_dk[0].get('latitude'), r_dk[0].get('longitude'))"
   ]
  },
  {
   "cell_type": "code",
   "execution_count": 83,
   "metadata": {},
   "outputs": [],
   "source": [
    "stations_loc['Husum Station'] = (55.709416513900315, 12.464032127468773)\n",
    "stations_loc['Fasanvej Station'] = (55.68175346374325, 12.523123655665945)\n",
    "stations_loc['Forum Station'] = (55.68194175606065, 12.552430497994727)\n",
    "stations_loc['Øresund Station'] = (55.66135306295389, 12.628820660777878)\n",
    "stations_loc['Tårnby Station'] = (55.629946132691515, 12.602094497992477)\n",
    "stations_loc['Høvelte Trinbræt'] = (55.85114141925344, 12.388094282659448)\n",
    "stations_loc['Sundby Station'] = (55.64525942491382, 12.585803299842478)\n",
    "stations_loc['Rødovre Station'] = (55.6649407086372, 12.458544638473386)\n",
    "stations_loc['Flintholm Station'] = (55.68582990624824, 12.499256667309936)\n",
    "stations_loc['Islands Brygge Station'] = (55.66363850651178, 12.585191713884258)\n",
    "stations_loc['Christianshavn Station'] = (55.672436293283894, 12.591146303186278)\n",
    "stations_loc['Egedal Station'] = (55.77972548711175, 12.18539629799885)\n",
    "stations_loc['Høje Taastrup Station'] = (55.64910485339314, 12.26935157749195)\n",
    "stations_loc['Ishøj Station'] = (55.61335971792646, 12.357989482649314)\n",
    "stations_loc['Herlev Station'] = (55.71897547452495, 12.443517888749625)\n",
    "stations_loc['Bagsværd Station'] = (55.76164229643494, 12.45427312998459)\n",
    "stations_loc['Virum Station'] = (55.79592019022332, 12.473300669163974)\n",
    "stations_loc['Bella Center Station'] = (55.63814816923437, 12.582842567307864)\n",
    "stations_loc['KB Hallen Station'] = (55.67776722523307, 12.492490326830145)\n",
    "stations_loc['Frederiksberg Station'] = (55.681301715838, 12.531751584501528)\n",
    "stations_loc['Birkerød Station'] = (55.61335971792646, 12.357989482649314)\n",
    "stations_loc['Farum Station'] = (55.81214308083602, 12.373480884507142)\n",
    "stations_loc['Ballerup Station'] = (55.72998289389706, 12.358148026832373)\n",
    "stations_loc['Stenløse Station'] = (55.766402823281936, 12.190661542176398)\n",
    "stations_loc['Ølstykke Station'] = (55.79571315450955, 12.15972272683513)\n",
    "stations_loc['Danshøj Station'] = (55.664322692436514, 12.49376378450079)"
   ]
  },
  {
   "cell_type": "code",
   "execution_count": 88,
   "metadata": {},
   "outputs": [],
   "source": [
    "with open('data/processed/Train_stations.pickle', 'wb') as handle:\n",
    "    pickle.dump(stations_loc, handle, protocol=pickle.HIGHEST_PROTOCOL)"
   ]
  },
  {
   "cell_type": "code",
   "execution_count": null,
   "metadata": {},
   "outputs": [],
   "source": []
  }
 ],
 "metadata": {
  "interpreter": {
   "hash": "5509f31e2044e4d39f528bdd5e1bbe95ee9581822c64151f31115901a677525b"
  },
  "kernelspec": {
   "display_name": "Python 3.9.6 64-bit ('GNN_env': conda)",
   "name": "python3"
  },
  "language_info": {
   "codemirror_mode": {
    "name": "ipython",
    "version": 3
   },
   "file_extension": ".py",
   "mimetype": "text/x-python",
   "name": "python",
   "nbconvert_exporter": "python",
   "pygments_lexer": "ipython3",
   "version": "3.9.6"
  },
  "orig_nbformat": 4
 },
 "nbformat": 4,
 "nbformat_minor": 2
}
